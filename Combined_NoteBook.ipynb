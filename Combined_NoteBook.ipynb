{
 "cells": [
  {
   "cell_type": "markdown",
   "metadata": {},
   "source": [
    "# Best NeighborHood In Pittsburgh"
   ]
  },
  {
   "cell_type": "markdown",
   "metadata": {},
   "source": [
    "## Introduction"
   ]
  },
  {
   "cell_type": "markdown",
   "metadata": {},
   "source": [
    "Imagine you are stuck in traffic day after day and then you get home and here about the 5th crime this week in your area you are starting to get worried that the next crime will happen to you. While all of this happens, people are moving out leaving plenty of public housing available. Would you want to like in that neighborhood? Yeah, neither would we. For this project we have decided to determine the best neighborhood in Pittsburgh. For this purpose, we have decided to analyze three different aspects of a neighborhoods: the total crime, the traffic, and the available housing. Our group thinks that these aspects of a Neighborhood can give us an important insight to the \"best neighborhood.\" First let’s start with the neighborhoods with the least crime."
   ]
  },
  {
   "cell_type": "markdown",
   "metadata": {},
   "source": [
    "# Crime and Police Activities in Different Neighborhoods"
   ]
  },
  {
   "cell_type": "code",
   "execution_count": 3,
   "metadata": {},
   "outputs": [],
   "source": [
    "import pandas as pd\n",
    "import numpy as np\n",
    "import geopandas\n",
    "%matplotlib inline\n",
    "import matplotlib.pyplot as plt\n"
   ]
  },
  {
   "cell_type": "markdown",
   "metadata": {},
   "source": [
    "For this data set the unit used will be called TC for \"Total Crime.\" The less TC a neighborhood has the better the neighborhood is. TC will be calculated from how many crimes occur in certain neighborhoods. For the purposes of finding the best neighborhood the top 5 neighborhoods will be inspected for how many crimes have been committed."
   ]
  },
  {
   "cell_type": "code",
   "execution_count": 4,
   "metadata": {},
   "outputs": [],
   "source": [
    "newCrime = pd.read_csv(\"2016-recent.csv\", index_col=\"PK\", low_memory = False)"
   ]
  },
  {
   "cell_type": "code",
   "execution_count": 5,
   "metadata": {},
   "outputs": [
    {
     "data": {
      "text/plain": [
       "99"
      ]
     },
     "execution_count": 5,
     "metadata": {},
     "output_type": "execute_result"
    }
   ],
   "source": [
    "len(newCrime[\"INCIDENTNEIGHBORHOOD\"].unique())"
   ]
  },
  {
   "cell_type": "code",
   "execution_count": 6,
   "metadata": {},
   "outputs": [
    {
     "data": {
      "text/plain": [
       "array(['North Shore', 'Upper Lawrenceville', 'Northview Heights',\n",
       "       'Golden Triangle/Civic Arena', 'South Side Flats', 'Elliott',\n",
       "       'Homewood North', 'South Side Slopes', 'Carrick', 'South Oakland',\n",
       "       nan, 'Bloomfield', 'Beechview', 'Bluff', 'Strip District',\n",
       "       'Mount Washington', 'East Carnegie', 'Crafton Heights',\n",
       "       'Marshall-Shadeland', 'East Liberty', 'East Allegheny',\n",
       "       'Friendship', 'Arlington', 'Central Northside',\n",
       "       'Spring Hill-City View', 'Brighton Heights', 'Westwood',\n",
       "       'East Hills', 'Brookline', 'South Shore', 'Lower Lawrenceville',\n",
       "       'Bedford Dwellings', 'Troy Hill-Herrs Island', 'Central Oakland',\n",
       "       'Garfield', 'West End', 'West Oakland', 'Central Lawrenceville',\n",
       "       'Lincoln-Lemington-Belmar', 'Sheraden', 'Beltzhoover',\n",
       "       'Outside City', 'Squirrel Hill South', 'North Oakland',\n",
       "       'Allentown', 'Perry North', 'Homewood South', 'Shadyside',\n",
       "       'Manchester', 'Squirrel Hill North', 'Regent Square',\n",
       "       'Homewood West', 'Allegheny Center', 'Highland Park',\n",
       "       'Middle Hill', 'Overbrook', 'Hazelwood', 'Greenfield',\n",
       "       'Morningside', 'Knoxville', 'Point Breeze', 'Duquesne Heights',\n",
       "       'Perry South', 'California-Kirkbride', 'Banksville',\n",
       "       'Point Breeze North', 'Bon Air', 'Polish Hill', 'Lincoln Place',\n",
       "       'Fineview', 'Spring Garden', 'Larimer', 'Esplen',\n",
       "       'Terrace Village', 'Allegheny West', 'Crawford-Roberts', 'Windgap',\n",
       "       'Stanton Heights', 'Glen Hazel', 'Upper Hill', 'Hays', 'Ridgemont',\n",
       "       'Oakwood', 'Outside State', 'Chateau', 'Swisshelm Park',\n",
       "       'Outside County', 'Fairywood', 'Chartiers City',\n",
       "       'Arlington Heights', 'St. Clair', 'Summer Hill',\n",
       "       'Mt. Oliver Neighborhood', 'New Homestead', 'Mt. Oliver Boro',\n",
       "       'Central Business District', 'Troy Hill', 'Central North Side',\n",
       "       'Mount Oliver'], dtype=object)"
      ]
     },
     "execution_count": 6,
     "metadata": {},
     "output_type": "execute_result"
    }
   ],
   "source": [
    "newCrime[\"INCIDENTNEIGHBORHOOD\"].unique()"
   ]
  },
  {
   "cell_type": "code",
   "execution_count": 7,
   "metadata": {},
   "outputs": [
    {
     "data": {
      "text/plain": [
       "Mt. Oliver Boro             39\n",
       "Outside County              91\n",
       "Outside State              106\n",
       "Chartiers City             116\n",
       "Mt. Oliver Neighborhood    117\n",
       "New Homestead              148\n",
       "Ridgemont                  170\n",
       "Swisshelm Park             186\n",
       "Mount Oliver               191\n",
       "Arlington Heights          218\n",
       "East Carnegie              226\n",
       "Summer Hill                231\n",
       "Name: INCIDENTNEIGHBORHOOD, dtype: int64"
      ]
     },
     "execution_count": 7,
     "metadata": {},
     "output_type": "execute_result"
    }
   ],
   "source": [
    "crimeCounts = newCrime['INCIDENTNEIGHBORHOOD'].value_counts().sort_values(ascending=True)\n",
    "focusedCrime = crimeCounts.head(12)\n",
    "crimeCounts.head(12)"
   ]
  },
  {
   "cell_type": "markdown",
   "metadata": {},
   "source": [
    "The top 10 contenders are show here because Outside County, Outside State, and Swisshelm Park are not actually neighborhoods, so it is redundant for our purposes. This means out of the 99 neighborhoods within this Pittsburgh dataset the ones with the least crimes are Mt. Oliver Boro, Mt. Oliver Neighborhood, Chartiers City, Swisshelm, Ridgemont, New Homestead, East Carnegie, Arlington Heights, Mount Olver, and Summer Hill. The next graphs plot a helpful graph to visualize the TC of each neighborhood."
   ]
  },
  {
   "cell_type": "code",
   "execution_count": 8,
   "metadata": {},
   "outputs": [
    {
     "data": {
      "text/plain": [
       "Text(0.5, 1.0, 'Total Number of Crimes From 2016-Present')"
      ]
     },
     "execution_count": 8,
     "metadata": {},
     "output_type": "execute_result"
    },
    {
     "data": {
      "image/png": "[encoded data removed]",
      "text/plain": [
       "<Figure size 432x288 with 1 Axes>"
      ]
     },
     "metadata": {
      "needs_background": "light"
     },
     "output_type": "display_data"
    }
   ],
   "source": [
    "g1 = crimeCounts.head(13).plot(kind = \"bar\")\n",
    "plt.xticks(rotation=90, horizontalalignment = \"center\")\n",
    "plt.xlabel(\"Neighborhoods\")\n",
    "plt.ylabel(\"Total Crime\")\n",
    "plt.title(\"Total Number of Crimes From 2016-Present\")"
   ]
  },
  {
   "cell_type": "code",
   "execution_count": 9,
   "metadata": {},
   "outputs": [
    {
     "data": {
      "text/plain": [
       "Text(0.5, 1.0, 'Total Number of Crimes from 2016 - Present')"
      ]
     },
     "execution_count": 9,
     "metadata": {},
     "output_type": "execute_result"
    },
    {
     "data": {
      "image/png": "[encoded data removed]",
      "text/plain": [
       "<Figure size 432x288 with 1 Axes>"
      ]
     },
     "metadata": {
      "needs_background": "light"
     },
     "output_type": "display_data"
    }
   ],
   "source": [
    "crimeCounts.tail(10).plot(kind = \"bar\")\n",
    "plt.xticks(rotation=90, horizontalalignment = \"center\")\n",
    "plt.xlabel(\"Neighborhoods\")\n",
    "plt.ylabel(\"Total Crime\")\n",
    "plt.title(\"Total Number of Crimes from 2016 - Present\")"
   ]
  },
  {
   "cell_type": "markdown",
   "metadata": {},
   "source": [
    "These graphs represent the more recent crimes in the neighborhoods of Pittsburgh. It also shows the most crime ridden neighborhoods so that one can see the difference between the most versus the least. These 10 neighborhoods will shortly be multiplied by 2 other units and be converted into the \"black cats\" or BC. The lower the BC the better the neighborhood."
   ]
  },
  {
   "cell_type": "markdown",
   "metadata": {},
   "source": [
    "From these graphs you can see that the difference in the numbers of crimes is astronomical. When considering the best neighborhood, I would want to live in one with as little crime as possible. There is a potential downside to this data set though. The data set does not account for population or the severity of the crime which could change people's answer on the best neighborhood. So this data set counts total crime rather than crime rate so this is one potentional downside. "
   ]
  },
  {
   "cell_type": "markdown",
   "metadata": {},
   "source": [
    "For my conclusion it would be that Mt. Oliver Boro is the best Neighborhood because it has the lowest TC. I would want to live in a neighbor hood with the least amount of crimes as possible because I would feel the safer. It also means that there will be more of a community with people trusting each other more. However, the crime level is not the only thing that determines whether a neighborhood is good or not, there are also other factors. In this case Mt. Oliver Boro is the winner."
   ]
  },
  {
   "cell_type": "markdown",
   "metadata": {},
   "source": [
    "## Average Traffic in Neighborhoods"
   ]
  },
  {
   "cell_type": "markdown",
   "metadata": {},
   "source": [
    "In this dataset, we are looking at the total amount of average total daily car traffic is present in each neighborhood from various sources. The neighborhood with the least car traffic will be considered the best neighborhood."
   ]
  },
  {
   "cell_type": "code",
   "execution_count": 10,
   "metadata": {},
   "outputs": [],
   "source": [
    "df = pd.read_csv(\"carz.csv\")"
   ]
  },
  {
   "cell_type": "code",
   "execution_count": 12,
   "metadata": {},
   "outputs": [
    {
     "name": "stderr",
     "output_type": "stream",
     "text": [
      "<ipython-input-12-20841c67ad4f>:1: FutureWarning: The pandas.np module is deprecated and will be removed from pandas in a future version. Import numpy directly instead\n",
      "  beforefiltercars = df.groupby(\"neighborhood\").sum()['average_daily_car_traffic'].replace(0, pd.np.nan).dropna()\n"
     ]
    },
    {
     "data": {
      "text/plain": [
       "Text(0, 0.5, 'Average cars per day')"
      ]
     },
     "execution_count": 12,
     "metadata": {},
     "output_type": "execute_result"
    },
    {
     "data": {
      "image/png": "[encoded data removed]",
      "text/plain": [
       "<Figure size 432x288 with 1 Axes>"
      ]
     },
     "metadata": {
      "needs_background": "light"
     },
     "output_type": "display_data"
    }
   ],
   "source": [
    "beforefiltercars = df.groupby(\"neighborhood\").sum()['average_daily_car_traffic'].replace(0, pd.np.nan).dropna()\n",
    "beforefiltercars.sort_values(ascending=True).head(10).plot(kind = \"bar\")\n",
    "plt.ylabel(\"Average cars per day\")"
   ]
  },
  {
   "cell_type": "markdown",
   "metadata": {},
   "source": [
    "This is a bar graph of the top ten contenders for best neighborhood based on traffic counts."
   ]
  },
  {
   "cell_type": "code",
   "execution_count": 13,
   "metadata": {},
   "outputs": [
    {
     "data": {
      "text/plain": [
       "Text(0, 0.5, 'Average cars per day')"
      ]
     },
     "execution_count": 13,
     "metadata": {},
     "output_type": "execute_result"
    },
    {
     "data": {
      "image/png": "[encoded data removed]",
      "text/plain": [
       "<Figure size 432x288 with 1 Axes>"
      ]
     },
     "metadata": {
      "needs_background": "light"
     },
     "output_type": "display_data"
    }
   ],
   "source": [
    "beforefiltercars.sort_values(ascending=True).head(20).plot(kind = \"bar\")\n",
    "plt.ylabel(\"Average cars per day\")"
   ]
  },
  {
   "cell_type": "code",
   "execution_count": 14,
   "metadata": {},
   "outputs": [
    {
     "name": "stderr",
     "output_type": "stream",
     "text": [
      "<ipython-input-14-e2924cbf9d14>:1: FutureWarning: The pandas.np module is deprecated and will be removed from pandas in a future version. Import numpy directly instead\n",
      "  num_cars = df.groupby(\"neighborhood\").sum()['average_daily_car_traffic'].replace(0, pd.np.nan).dropna()\n"
     ]
    },
    {
     "data": {
      "text/plain": [
       "neighborhood\n",
       "South Side Flats             115.0\n",
       "Lincoln Place                126.0\n",
       "Lincoln-Lemington-Belmar     195.0\n",
       "Fineview                     419.0\n",
       "Allegheny West               477.0\n",
       "New Homestead                666.0\n",
       "Overbrook                    777.0\n",
       "Summer Hill                  937.0\n",
       "Spring Garden               1226.0\n",
       "Beltzhoover                 1577.0\n",
       "Name: average_daily_car_traffic, dtype: float64"
      ]
     },
     "execution_count": 14,
     "metadata": {},
     "output_type": "execute_result"
    }
   ],
   "source": [
    "num_cars = df.groupby(\"neighborhood\").sum()['average_daily_car_traffic'].replace(0, pd.np.nan).dropna()\n",
    "num_cars.sort_values(ascending=True).head(10)"
   ]
  },
  {
   "cell_type": "markdown",
   "metadata": {},
   "source": [
    "These ten neighborhoods have the least average daily car traffic after filtering out neighborhoods with zero average daily car traffic.\n",
    "\n",
    "This brings me to one of the limitations of my dataset. The DOMI, or the Department of Mobility and Infrastructure counted the traffic based on traffic studies, some based on whether or not to install speed bumps. Because of this, the counters were not necessarily installed in all neighborhoods and were placed at select intersections and streets.\n",
    "\n",
    "The absence of data for some neighborhoods means counters were only placed in certain locations, so this may not be entirely indicative of the traffic in a neighborhood.\n",
    "\n",
    "As you can see in this bar graph of the first twenty neighborhoods sorted in ascending order, there are a few neighborhoods with low traffic but the amount of traffic starts to rapidly rise until around 2500. About half of the neighborhoods plotted here have around 2500 cars per day.\n",
    "\n",
    "From my data, I would conclude the best neighborhood is South Side Flats. It has the lowest average amount of cars per day compared to the other neighborhoods. Coming in close is Lincoln Place, which has a very similar amount of cars per day at 126."
   ]
  },
  {
   "cell_type": "markdown",
   "metadata": {},
   "source": [
    "## City Owned Publicly Available Properties"
   ]
  },
  {
   "cell_type": "markdown",
   "metadata": {},
   "source": [
    "My reasoning for picking city owned properties for sale is because I heard that local and state goverments tries to buy houses from undesired neighborhoods and sells them cheaply to generate tax money. And I thought that a more desirable neighborhood will proablly not have any goverment owned houses while the bad neighborhoods will have a ton of homes for sale. And I will use neighborhood_HT as in Housing Total to store the total number of houses that the city goverment owns in a place."
   ]
  },
  {
   "cell_type": "code",
   "execution_count": 15,
   "metadata": {},
   "outputs": [],
   "source": [
    "house = pd.read_csv(\"House.csv\")\n"
   ]
  },
  {
   "cell_type": "code",
   "execution_count": 16,
   "metadata": {},
   "outputs": [],
   "source": [
    "hl = house['Neighborhood']\n",
    "hd = hl.value_counts().sort_values(ascending=False)\n",
    "ha = hl.value_counts().sort_values(ascending=True)"
   ]
  },
  {
   "cell_type": "markdown",
   "metadata": {},
   "source": [
    "Displaying the 30 areas with the most houses avaiable to buy."
   ]
  },
  {
   "cell_type": "code",
   "execution_count": 17,
   "metadata": {},
   "outputs": [
    {
     "data": {
      "text/plain": [
       "<matplotlib.axes._subplots.AxesSubplot at 0x7fe1d874e190>"
      ]
     },
     "execution_count": 17,
     "metadata": {},
     "output_type": "execute_result"
    },
    {
     "data": {
      "image/png": "[encoded data removed]",
      "text/plain": [
       "<Figure size 432x288 with 1 Axes>"
      ]
     },
     "metadata": {
      "needs_background": "light"
     },
     "output_type": "display_data"
    }
   ],
   "source": [
    "hd.head(30).plot(kind =\"bar\")"
   ]
  },
  {
   "cell_type": "markdown",
   "metadata": {},
   "source": [
    "Places with 10 or less houses avaiable to buy from the goverment."
   ]
  },
  {
   "cell_type": "code",
   "execution_count": 18,
   "metadata": {},
   "outputs": [
    {
     "data": {
      "text/plain": [
       "<matplotlib.axes._subplots.AxesSubplot at 0x7fe1d8692460>"
      ]
     },
     "execution_count": 18,
     "metadata": {},
     "output_type": "execute_result"
    },
    {
     "data": {
      "image/png": "[encoded data removed]",
      "text/plain": [
       "<Figure size 432x288 with 1 Axes>"
      ]
     },
     "metadata": {
      "needs_background": "light"
     },
     "output_type": "display_data"
    }
   ],
   "source": [
    "ha.head(53).plot(kind=\"bar\")"
   ]
  },
  {
   "cell_type": "code",
   "execution_count": 19,
   "metadata": {},
   "outputs": [
    {
     "data": {
      "text/plain": [
       "HOMWOOD NORTH                 1\n",
       "SOUTH SIDE FLATS              1\n",
       "H9MEWOOD SOUTH                1\n",
       "MDDLE HILL                    1\n",
       "LARIMTER                      1\n",
       "LAWRENCEVILLE                 1\n",
       "LINCOLN-LENINGTON-BELMAR      1\n",
       "SQUIRREL HILL SOUTH           1\n",
       "HIGHLAND PARK                 1\n",
       "LRIMER                        1\n",
       "HOMWOOD SOUTH                 1\n",
       "MARSHAL-SHADELAND             1\n",
       "SHALER TWP                    1\n",
       "MARHSALL-SHADELAND            1\n",
       "EILLOTT                       1\n",
       "GLEN HAZEL                    1\n",
       "CHATEAU                       1\n",
       "BOROUGH OF ASPINWALL          1\n",
       "SHERIDAN                      1\n",
       "PERRY CENTRAL                 1\n",
       "SOUTHSIDE FLATS               1\n",
       "SHADYSIDE                     1\n",
       "HOMESTEAD WEST                2\n",
       "WINDGAP                       2\n",
       "HOMEWWOD SOUTH                2\n",
       "HOMEWOOD SOUT                 2\n",
       "OAKLAND                       2\n",
       "CALIF KIRKBRIDE               2\n",
       "LINCOLN LEMINGTON BELMAR      2\n",
       "LOWER LAWRENCEVILLE           2\n",
       "SOUTH OAKLAND                 3\n",
       "SOUTHSIDE SLOPES              3\n",
       "ESPLEN                        3\n",
       "HOMEWOOD                      4\n",
       "CRAWFORD ROBERTS              4\n",
       "POINT BREEZE NORTH            4\n",
       "MT OLIVER                     5\n",
       "BON AIR                       5\n",
       "RIDGEMONT                     5\n",
       "HAYS                          6\n",
       "BLUFF                         6\n",
       "LINCOLN-LEMMINGTON-BELMAR     6\n",
       "EAST LIBERTY                  6\n",
       "CHARTIERS CITY                6\n",
       "BANKSVILLE                    6\n",
       "STANTON HEIGHTS               7\n",
       "EAST CARNEGIE                 7\n",
       "MORNINGSIDE                   7\n",
       "OAKWOOD                       8\n",
       "CENTRAL NORTH SIDE            8\n",
       "HOMEWWOD NORTH                8\n",
       "LINCOLN PLACE                 9\n",
       "SUMMER HILL                  10\n",
       "Name: Neighborhood, dtype: int64"
      ]
     },
     "execution_count": 19,
     "metadata": {},
     "output_type": "execute_result"
    }
   ],
   "source": [
    "ha.head(53)"
   ]
  },
  {
   "cell_type": "markdown",
   "metadata": {},
   "source": [
    "Something that became a bit of a trouble is when I discovered that some of the neighborhoods had typos. It kind of made the whole process a little bit troublesome, to find which \"Neighborhood\" was a typo. For example \n",
    "(H9mewood - Homewood)\n",
    "(Mddle Hill - Middle Hill)\n",
    "(Marshal-Shadeland - Marshall-Shadeland)\n",
    "(Homwood - Homewood)\n",
    "(Lrimer - Larimer)\n",
    "etc."
   ]
  },
  {
   "cell_type": "markdown",
   "metadata": {},
   "source": [
    "If we were to remove the typos and look at the places with one house that goverment have for sale we could conclude that the 10 best neighborhoods in Pittsburgh are \n",
    "Squirrel Hill, \n",
    "Aspinwall, \n",
    "SouthSide Flats, \n",
    "Perry County, \n",
    "Lawrenceville, \n",
    "Shaler Twp, \n",
    "Chateau, \n",
    "Shadyside, \n",
    "Sheridan, \n",
    "Highland Park."
   ]
  },
  {
   "cell_type": "markdown",
   "metadata": {},
   "source": [
    "# Combined Data"
   ]
  },
  {
   "cell_type": "markdown",
   "metadata": {},
   "source": [
    "## CT of Leo's Top 10"
   ]
  },
  {
   "cell_type": "markdown",
   "metadata": {},
   "source": [
    "I pulled leo's top ten neighborhoods and got there TC value."
   ]
  },
  {
   "cell_type": "code",
   "execution_count": 20,
   "metadata": {},
   "outputs": [
    {
     "name": "stdout",
     "output_type": "stream",
     "text": [
      "9302\n",
      "732\n",
      "3135\n",
      "741\n",
      "666\n",
      "148\n",
      "826\n",
      "231\n",
      "404\n",
      "800\n"
     ]
    }
   ],
   "source": [
    "South_Side_TC = newCrime.INCIDENTNEIGHBORHOOD.value_counts()['South Side Flats']\n",
    "print(South_Side_TC)\n",
    "\n",
    "Lincoln_Place_TC = newCrime.INCIDENTNEIGHBORHOOD.value_counts()['Lincoln Place']\n",
    "print(Lincoln_Place_TC)\n",
    "\n",
    "Lincoln_Belmar_TC= newCrime.INCIDENTNEIGHBORHOOD.value_counts()['Lincoln-Lemington-Belmar']\n",
    "print(Lincoln_Belmar_TC)\n",
    "\n",
    "Fineview_TC = newCrime.INCIDENTNEIGHBORHOOD.value_counts()['Fineview']\n",
    "print(Fineview_TC)\n",
    "\n",
    "Allegheny_West_TC = newCrime.INCIDENTNEIGHBORHOOD.value_counts()['Allegheny West']\n",
    "print(Allegheny_West_TC)\n",
    "\n",
    "New_Homestead_TC = newCrime.INCIDENTNEIGHBORHOOD.value_counts()['New Homestead']\n",
    "print(New_Homestead_TC)\n",
    "\n",
    "Overbrook_TC = newCrime.INCIDENTNEIGHBORHOOD.value_counts()['Overbrook']\n",
    "print(Overbrook_TC)\n",
    "\n",
    "Summer_Hill_TC = newCrime.INCIDENTNEIGHBORHOOD.value_counts()['Summer Hill']\n",
    "print(Summer_Hill_TC)\n",
    "\n",
    "Spring_Garden_TC = newCrime.INCIDENTNEIGHBORHOOD.value_counts()['Spring Garden']\n",
    "print(Spring_Garden_TC)\n",
    "\n",
    "Beltzhoover_TC = newCrime.INCIDENTNEIGHBORHOOD.value_counts()['Beltzhoover']\n",
    "print(Beltzhoover_TC)"
   ]
  },
  {
   "cell_type": "markdown",
   "metadata": {},
   "source": [
    "## CT of Jerry's Top 10"
   ]
  },
  {
   "cell_type": "markdown",
   "metadata": {},
   "source": [
    "I pulled Jerry's top neigborhoods and I got there TC as well. "
   ]
  },
  {
   "cell_type": "code",
   "execution_count": 21,
   "metadata": {},
   "outputs": [
    {
     "name": "stdout",
     "output_type": "stream",
     "text": [
      "5261\n",
      "3138\n",
      "3457\n",
      "972\n",
      "3920\n",
      "2131\n",
      "2200\n"
     ]
    }
   ],
   "source": [
    "Squirrel_Hill_TC = newCrime.INCIDENTNEIGHBORHOOD.value_counts()['Squirrel Hill North'] + newCrime.INCIDENTNEIGHBORHOOD.value_counts()['Squirrel Hill South']\n",
    "print(Squirrel_Hill_TC)\n",
    "\n",
    "# Aspinwall is not in my data set\n",
    "\n",
    "# Found South Side Flats in Leo's pull\n",
    "\n",
    "Perry_County_TC  = newCrime.INCIDENTNEIGHBORHOOD.value_counts()['Perry North'] + newCrime.INCIDENTNEIGHBORHOOD.value_counts()['Perry South']\n",
    "print(Perry_County_TC)\n",
    "\n",
    "Lawrenceville_TC = newCrime.INCIDENTNEIGHBORHOOD.value_counts()['Upper Lawrenceville']  = newCrime.INCIDENTNEIGHBORHOOD.value_counts()['Lower Lawrenceville'] + newCrime.INCIDENTNEIGHBORHOOD.value_counts()['Central Lawrenceville']\n",
    "print(Lawrenceville_TC)\n",
    "\n",
    "#Shaler also is not in this data set\n",
    "\n",
    "Chateau_TC  = newCrime.INCIDENTNEIGHBORHOOD.value_counts()['Chateau']\n",
    "print(Chateau_TC)\n",
    "\n",
    "Shadyside_TC = newCrime.INCIDENTNEIGHBORHOOD.value_counts()['Shadyside']\n",
    "print(Shadyside_TC)\n",
    "\n",
    "Sheraden_TC = newCrime.INCIDENTNEIGHBORHOOD.value_counts()['Sheraden']\n",
    "print(Sheraden_TC)\n",
    "\n",
    "Highland_Park_TC = newCrime.INCIDENTNEIGHBORHOOD.value_counts()['Highland Park']\n",
    "print(Highland_Park_TC)"
   ]
  },
  {
   "cell_type": "markdown",
   "metadata": {},
   "source": [
    "## Traffic Of Drake's Top 10"
   ]
  },
  {
   "cell_type": "markdown",
   "metadata": {},
   "source": [
    "I pulled Drake's top 10 neighborhoods and looked up the average daily traffic of each neighborhood."
   ]
  },
  {
   "cell_type": "code",
   "execution_count": 22,
   "metadata": {},
   "outputs": [
    {
     "name": "stdout",
     "output_type": "stream",
     "text": [
      "2571.0\n",
      "666.0\n",
      "937.0\n"
     ]
    }
   ],
   "source": [
    "#Mt. Oliver Boro was not present in this dataset.\n",
    "#Mt. Oliver Neighborhood was not present in this dataset.\n",
    "Chartiers_City_T = num_cars.get(key = 'Chartiers City')\n",
    "print(Chartiers_City_T)\n",
    "\n",
    "#Swisshelm Park had no value recorded and thus will not be considered\n",
    "\n",
    "# Ridgemont was not present in the data set\n",
    "\n",
    "New_Homestead_T = num_cars.get(key = 'New Homestead')\n",
    "print(New_Homestead_T)\n",
    "#East Carnegie was not present in this dataset.\n",
    "#Arlington Heights was not present in this dataset.\n",
    "#Mount Oliver was not present in this dataset.\n",
    "Summer_Hill_T = num_cars.get(key = 'Summer Hill')\n",
    "print(Summer_Hill_T)"
   ]
  },
  {
   "cell_type": "markdown",
   "metadata": {},
   "source": [
    "## Traffic of Jerry's Top 10"
   ]
  },
  {
   "cell_type": "code",
   "execution_count": 23,
   "metadata": {},
   "outputs": [
    {
     "name": "stdout",
     "output_type": "stream",
     "text": [
      "114754.0\n",
      "115.0\n",
      "31189.0\n",
      "16971.0\n",
      "66132.0\n",
      "23471.0\n"
     ]
    }
   ],
   "source": [
    "Squirrel_Hill_TC1 = num_cars.get(key = 'Squirrel Hill South')\n",
    "Squirrel_Hill_TC2 = num_cars.get(key = 'Squirrel Hill North')\n",
    "Squirrel_Hill_T = Squirrel_Hill_TC1 + Squirrel_Hill_TC2\n",
    "print(Squirrel_Hill_T)\n",
    "\n",
    "#Aspinwall was not present in this dataset.\n",
    "SouthSide_Flats_T =  num_cars.get(key = 'South Side Flats')\n",
    "print(SouthSide_Flats_T)\n",
    "\n",
    "Perry_TC1 = num_cars.get(key = 'Perry North')\n",
    "Perry_TC2 = num_cars.get(key = 'Perry South')\n",
    "Perry_County_T = Perry_TC1 + Perry_TC2\n",
    "print(Perry_County_T)\n",
    "\n",
    "Law1 = num_cars.get(key = 'Lower Lawrenceville')\n",
    "Law2 = num_cars.get(key = 'Central Lawrenceville')\n",
    "Lawrenceville_T = Law1 + Law2\n",
    "print(Lawrenceville_T)\n",
    "\n",
    "#Shaler Twp was not present in this dataset\n",
    "\n",
    "#Chateau had no values recorded and will not be considered in this project\n",
    "\n",
    "Shadyside_T = num_cars.get(key = 'Shadyside')\n",
    "print(Shadyside_T)\n",
    "\n",
    "#Sheridan was not present in this dataset\n",
    "\n",
    "Highland_Park_T = num_cars.get(key = 'Highland Park')\n",
    "print(Highland_Park_T)"
   ]
  },
  {
   "cell_type": "markdown",
   "metadata": {},
   "source": [
    "## Housing of Drake's Top 10"
   ]
  },
  {
   "cell_type": "code",
   "execution_count": 24,
   "metadata": {},
   "outputs": [
    {
     "name": "stdout",
     "output_type": "stream",
     "text": [
      "5\n",
      "6\n",
      "5\n",
      "30\n",
      "None\n",
      "5\n",
      "5\n",
      "49\n",
      "7\n",
      "10\n"
     ]
    }
   ],
   "source": [
    "MB_HT = ha.get(key = 'MT OLIVER')\n",
    "CC_HT = ha.get(key = 'CHARTIERS CITY')\n",
    "MON_HT = ha.get(key = 'MT OLIVER')\n",
    "NH_HT = ha.get(key = 'NEW HOMESTEAD')\n",
    "S_HT = ha.get(key= 'SWISSHELM PARK')\n",
    "R_HT = ha.get(key = 'RIDGEMONT')\n",
    "MO_HT = ha.get(key = 'MT OLIVER')\n",
    "AH_HT = ha.get(key = 'ARLINGTON')\n",
    "EC_HT = ha.get(key = 'EAST CARNEGIE')\n",
    "SH_HT = ha.get(key ='SUMMER HILL')\n",
    "print(MB_HT)\n",
    "print(CC_HT)\n",
    "print(MON_HT)\n",
    "print(NH_HT)\n",
    "print(S_HT)\n",
    "print(R_HT)\n",
    "print(MO_HT)\n",
    "print(AH_HT)\n",
    "print(EC_HT)\n",
    "print(SH_HT)\n"
   ]
  },
  {
   "cell_type": "markdown",
   "metadata": {},
   "source": [
    "## Housing of Leo's Top 10"
   ]
  },
  {
   "cell_type": "code",
   "execution_count": 25,
   "metadata": {},
   "outputs": [
    {
     "name": "stdout",
     "output_type": "stream",
     "text": [
      "1\n",
      "9\n",
      "1\n",
      "28\n",
      "None\n",
      "30\n",
      "240\n",
      "10\n",
      "47\n",
      "140\n"
     ]
    }
   ],
   "source": [
    "S_HT = ha.get('SOUTH SIDE FLATS')\n",
    "LP_HT = ha.get('LINCOLN PLACE')\n",
    "LLB_HT= ha.get('LINCOLN-LENINGTON-BELMAR')\n",
    "FV_HT = ha.get('FINEVIEW')\n",
    "AW_HT = ha.get('ALLEGHENY WEST')\n",
    "NH_HT = ha.get('NEW HOMESTEAD')\n",
    "Overbrook_HT = ha.get('PERRY SOUTH')\n",
    "SH_HT = ha.get('SUMMER HILL')\n",
    "SG_HT = ha.get('SPRING GARDEN')\n",
    "BH_HT = ha.get('BELTZHOOVER')\n",
    "print(S_HT)\n",
    "print(LP_HT)\n",
    "print(LLB_HT)\n",
    "print(FV_HT)\n",
    "print(AW_HT)\n",
    "print(NH_HT)\n",
    "print(Overbrook_HT)\n",
    "print(SH_HT)\n",
    "print(SG_HT)\n",
    "print(BH_HT)"
   ]
  },
  {
   "cell_type": "markdown",
   "metadata": {},
   "source": [
    "## Final Conversion into Black Cats"
   ]
  },
  {
   "cell_type": "markdown",
   "metadata": {},
   "source": [
    "In this section we will convert all of our units into one single unit called black cats or BC to determine the best neighborhood. The idea of this metric is that black cats mean bad luck so the less of them you see the better out you are. Therfore, the neighborhood with the least amount of BC will be the best."
   ]
  },
  {
   "cell_type": "markdown",
   "metadata": {},
   "source": [
    "## Leo's Top 10"
   ]
  },
  {
   "cell_type": "markdown",
   "metadata": {},
   "source": [
    "This is the conversion to black cats of Leo's top 10. (We still need the housing values so multiply by the open houisng)"
   ]
  },
  {
   "cell_type": "code",
   "execution_count": 26,
   "metadata": {},
   "outputs": [
    {
     "name": "stdout",
     "output_type": "stream",
     "text": [
      "1069730.0 830088.0 611325.0 8693412.0 2957040.0 154032480.0 2164470.0 23279288.0 176624000.0\n"
     ]
    }
   ],
   "source": [
    "SouthSide_Flats_BC = 115.0 * South_Side_TC * S_HT\n",
    "Lincoln_Place_BC =   126.0 * Lincoln_Place_TC * LP_HT\n",
    "Lincoln_Lemington_Belmar_BC = 195.0 * Lincoln_Belmar_TC * LLB_HT\n",
    "Fineview_BC = 419.0 * Fineview_TC * FV_HT\n",
    "# Allegheny west could not be converted\n",
    "New_Homestead_BC = 666.0 * New_Homestead_TC * NH_HT\n",
    "Overbrook_BC = 777.0 * Overbrook_TC * Overbrook_HT\n",
    "Summer_Hill_BC = 937.0 * Summer_Hill_TC * SH_HT\n",
    "Spring_Garden_BC = 1226.0 * Spring_Garden_TC * SG_HT\n",
    "Beltzhoover_BC = 1577.0 * Beltzhoover_TC * BH_HT\n",
    "print(SouthSide_Flats_BC, Lincoln_Place_BC, Lincoln_Lemington_Belmar_BC, Fineview_BC, \n",
    "      New_Homestead_BC, Overbrook_BC, Summer_Hill_BC, Spring_Garden_BC, Beltzhoover_BC)"
   ]
  },
  {
   "cell_type": "markdown",
   "metadata": {},
   "source": [
    "## Drake's Top 10 conversion"
   ]
  },
  {
   "cell_type": "markdown",
   "metadata": {},
   "source": [
    "We need traffic and housing for my top 10 (there is only 8 bc leo already has some of the same neigborhoods) We need leo's traffic and Jerry's Housing inputs on these."
   ]
  },
  {
   "cell_type": "code",
   "execution_count": 26,
   "metadata": {},
   "outputs": [
    {
     "name": "stdout",
     "output_type": "stream",
     "text": [
      "1789416.0\n"
     ]
    }
   ],
   "source": [
    "# Oliver Boro cannot be converted -leo- * MB_HT\n",
    "Chartiers_City_BC = 116 * Chartiers_City_T * CC_HT\n",
    "print(Chartiers_City_BC)\n",
    "# Oliver Neighborhood cannot be converted -leo- * MB_HT\n",
    "# Ridgemont can not be converted -leo- * R_HT\n",
    "# Swisshelm Park cannot be converted -leo- * could not find anything(jerry)\n",
    "# Mount Oliver cannot be converted -leo- * MO_HT\n",
    "# Arlington Heights cannot be converted  -leo- * AH_HT\n",
    "# East Carnegie cannot be converted -leo- * EC_HT\n",
    "# Summer Hill * SH_HT\n",
    "# New Homestead * NH_HT\n"
   ]
  },
  {
   "cell_type": "markdown",
   "metadata": {},
   "source": [
    "## Jerry's Top 10 conversion"
   ]
  },
  {
   "cell_type": "markdown",
   "metadata": {},
   "source": [
    "This is the final dictionary showing the top rated neighborhoods in the black cats value. Leo we need the traffic values for these neighborhoods."
   ]
  },
  {
   "cell_type": "code",
   "execution_count": 28,
   "metadata": {},
   "outputs": [
    {
     "name": "stdout",
     "output_type": "stream",
     "text": [
      "603720794.0\n",
      "97871082.0\n",
      "58668747.0\n",
      "259237440.0\n",
      "51636200.0\n",
      "603720794.0 97871082.0 58668747.0 259237440.0 51636200.0 1069730.0\n"
     ]
    }
   ],
   "source": [
    "Squirrel_Hill_BC = 1 * Squirrel_Hill_T * Squirrel_Hill_TC\n",
    "print(Squirrel_Hill_BC)\n",
    "# Aspinwall Cannot be converted\n",
    "Perry_County_BC = 1 * Perry_County_T * Perry_County_TC\n",
    "print(Perry_County_BC)\n",
    "Lawrenceville_BC = 1 * Lawrenceville_T * Lawrenceville_TC\n",
    "print(Lawrenceville_BC)\n",
    "# Shaler_Twp cannor be converted\n",
    "# Chateau cannot be converted\n",
    "Shadyside_BC = 1 * Shadyside_T * Shadyside_TC\n",
    "print(Shadyside_BC)\n",
    "# Sheridan cannot be converted \n",
    "Highland_Park_BC = 1 * Highland_Park_T * Highland_Park_TC\n",
    "print(Highland_Park_BC)\n",
    "# SouthSide_Flats_BC already cpnverted\n",
    "print(Squirrel_Hill_BC,Perry_County_BC,Lawrenceville_BC,Shadyside_BC,Highland_Park_BC,SouthSide_Flats_BC)"
   ]
  },
  {
   "cell_type": "markdown",
   "metadata": {},
   "source": [
    "# Final Dictionary of The top Black Cat Values"
   ]
  },
  {
   "cell_type": "markdown",
   "metadata": {},
   "source": [
    "# Top Neighborhoods"
   ]
  },
  {
   "cell_type": "code",
   "execution_count": 29,
   "metadata": {},
   "outputs": [
    {
     "data": {
      "text/plain": [
       "Lincoln Lemington Belmar       611325.0\n",
       "Lincoln Place                  830088.0\n",
       "South Side Flats              1069730.0\n",
       "Chartiers City                1789416.0\n",
       "Summer Hill                   2164470.0\n",
       "New Homstead                  2957040.0\n",
       "Fineview                      8693412.0\n",
       "Spring Garden                23279288.0\n",
       "Highland_Park                51636200.0\n",
       "Lawrenceville                58668747.0\n",
       "Perry County                 97871082.0\n",
       "Overbrook                   154032480.0\n",
       "Beltzhoover                 176624000.0\n",
       "Shadyside                   259237440.0\n",
       "Squirrel_Hill               603720794.0\n",
       "dtype: float64"
      ]
     },
     "execution_count": 29,
     "metadata": {},
     "output_type": "execute_result"
    }
   ],
   "source": [
    "black_cats_dict = {\"South Side Flats\": SouthSide_Flats_BC,\n",
    "                   \"Lincoln Place\": Lincoln_Place_BC,\n",
    "                   \"Lincoln Lemington Belmar\": Lincoln_Lemington_Belmar_BC,\n",
    "                   \"Fineview\": Fineview_BC,\n",
    "                   \"New Homstead\" : New_Homestead_BC,\n",
    "                   \"Overbrook\" : Overbrook_BC,\n",
    "                   \"Summer Hill\": Summer_Hill_BC,\n",
    "                   \"Spring Garden\" : Spring_Garden_BC,\n",
    "                   \"Beltzhoover\" : Beltzhoover_BC,\n",
    "                   \"Squirrel_Hill\" : Squirrel_Hill_BC,\n",
    "                   \"Perry County\" : Perry_County_BC,\n",
    "                   \"Lawrenceville\" : Lawrenceville_BC,\n",
    "                   \"Shadyside\" : Shadyside_BC,\n",
    "                   \"Highland_Park\" : Highland_Park_BC,\n",
    "                   \"Chartiers City\" : Chartiers_City_BC,\n",
    "                  }\n",
    "\n",
    "black_cats = pd.Series(black_cats_dict).sort_values(ascending=True)\n",
    "\n",
    "black_cats"
   ]
  },
  {
   "cell_type": "code",
   "execution_count": 30,
   "metadata": {},
   "outputs": [
    {
     "name": "stdout",
     "output_type": "stream",
     "text": [
      "Lincoln Lemington Belmar     611325.0\n",
      "Lincoln Place                830088.0\n",
      "South Side Flats            1069730.0\n",
      "Chartiers City              1789416.0\n",
      "Summer Hill                 2164470.0\n",
      "dtype: float64\n"
     ]
    },
    {
     "data": {
      "text/plain": [
       "<matplotlib.axes._subplots.AxesSubplot at 0x7f6b8007b520>"
      ]
     },
     "execution_count": 30,
     "metadata": {},
     "output_type": "execute_result"
    },
    {
     "data": {
      "image/png": "[encoded data removed]",
      "text/plain": [
       "<Figure size 432x288 with 1 Axes>"
      ]
     },
     "metadata": {
      "needs_background": "light"
     },
     "output_type": "display_data"
    }
   ],
   "source": [
    "graph = pd.Series(black_cats)\n",
    "final = graph.head(5)\n",
    "print(final)\n",
    "final.plot(kind = \"bar\")"
   ]
  },
  {
   "cell_type": "markdown",
   "metadata": {},
   "source": [
    "# Final Conclusions"
   ]
  },
  {
   "cell_type": "markdown",
   "metadata": {},
   "source": [
    "Drake's Conclusion - The result that we got for the best neighborhood in Pittsburgh would be Lincoln-Lemington-Belmar because it had the lowest black cats rating. Now this is different from both my favorite neighborhood and the neighborhood I might have wanted to move into before. Penn Hills is my favorite neighborhood because I live there but Mt. Oliver Boro is what I originally decided was the best neighborhood because it has the lowest number of crimes. So therefore, our conclusion is different. However, I do tend to agree that Lincoln-Lemington-Belmar is one of the best neighborhoods according to the data and my opinion. This is because it does not have a lot of crimes, it has minimal open housing which means it is a desired spot to live, and low traffic rates so I could get around the neighborhood quickly. All these factors combined make less of an emphasis on the total crime. Although our conclusion was not the same as my initial neighborhood I tend to agree with our conclusion because it has more data behind it."
   ]
  },
  {
   "cell_type": "markdown",
   "metadata": {},
   "source": [
    "Leo's Conclusion - The result is the best neighborhood being Lincoln-Lemington-Belmar. I didn't even know the location of this neighborhood before our combined analysis and especially my personal conclusion, since I was predicting South Side Flats or Lincoln Place. Considering Lincoln-Lemington-Belmar took the third place for my traffic rating, it does make sense. Even though I noted one flaw of my dataset noting that the traffic data collected is not 100% accurate,  the crime rate and open housing is relatively low indicating the neighborhood is popular, and I think it does combine all the best aspects of a neighborhood we were looking for in this project. "
   ]
  },
  {
   "cell_type": "markdown",
   "metadata": {},
   "source": [
    "Jerry's Conclusion - With the combined data, it seems that the \"best neighborhood\" should be Lincoln-Lemington-Belmar. Its quite different from what I was expecting, my personal guess for the best neighborhood were Squirrl Hill and South Side Flats. I still belive that Lemington is very good neighborhood, but I am pretty certain that it is not the best neighborhood. There are certinally more impactful paraimeters I could have looked at instead of goverment owned housing, for example, houses sold was a data set I could have used to determind the quality of a neighborhood. The houses sold data set could have also told me the average price for the houses in a set neighborhood which were all important for finding the best neighborhood, unfotunatly I didn't have the foresight to see it. With all that said, I still belive that Lincoln-Lemington-Belmar is one of the better neighborhoods in the Pittsburgh area, its a area with low traffic and crime, and bing a popular location to live in."
   ]
  },
  {
   "cell_type": "code",
   "execution_count": null,
   "metadata": {},
   "outputs": [],
   "source": []
  },
  {
   "cell_type": "code",
   "execution_count": null,
   "metadata": {},
   "outputs": [],
   "source": []
  }
 ],
 "metadata": {
  "kernelspec": {
   "display_name": "Python 3",
   "language": "python",
   "name": "python3"
  },
  "language_info": {
   "codemirror_mode": {
    "name": "ipython",
    "version": 3
   },
   "file_extension": ".py",
   "mimetype": "text/x-python",
   "name": "python",
   "nbconvert_exporter": "python",
   "pygments_lexer": "ipython3",
   "version": "3.8.3"
  }
 },
 "nbformat": 4,
 "nbformat_minor": 4
}

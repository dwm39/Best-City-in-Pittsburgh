{
 "cells": [
  {
   "cell_type": "markdown",
   "metadata": {},
   "source": [
    "City Owned Publicly Available Properties\n"
   ]
  },
  {
   "cell_type": "code",
   "execution_count": 64,
   "metadata": {},
   "outputs": [
    {
     "data": {
      "text/html": [
       "<div>\n",
       "<style scoped>\n",
       "    .dataframe tbody tr th:only-of-type {\n",
       "        vertical-align: middle;\n",
       "    }\n",
       "\n",
       "    .dataframe tbody tr th {\n",
       "        vertical-align: top;\n",
       "    }\n",
       "\n",
       "    .dataframe thead th {\n",
       "        text-align: right;\n",
       "    }\n",
       "</style>\n",
       "<table border=\"1\" class=\"dataframe\">\n",
       "  <thead>\n",
       "    <tr style=\"text-align: right;\">\n",
       "      <th></th>\n",
       "      <th>Ward</th>\n",
       "      <th>BlockLot</th>\n",
       "      <th>MAPBLOCKLO</th>\n",
       "      <th>latitude</th>\n",
       "      <th>longitude</th>\n",
       "      <th>StreetNumber</th>\n",
       "      <th>StreetName</th>\n",
       "      <th>Neighborhood</th>\n",
       "      <th>LandUse</th>\n",
       "      <th>LandArea</th>\n",
       "      <th>SaleCode</th>\n",
       "      <th>SALEDESCRIPTION2</th>\n",
       "    </tr>\n",
       "  </thead>\n",
       "  <tbody>\n",
       "    <tr>\n",
       "      <th>511</th>\n",
       "      <td>10.0</td>\n",
       "      <td>50F121</td>\n",
       "      <td>50-F-121</td>\n",
       "      <td>40.467819</td>\n",
       "      <td>-79.941912</td>\n",
       "      <td>418</td>\n",
       "      <td>N WINEBIDDLE</td>\n",
       "      <td>GARFIELD</td>\n",
       "      <td>NaN</td>\n",
       "      <td>1370</td>\n",
       "      <td>Hold for URA</td>\n",
       "      <td>APPROVED FOR A SALE</td>\n",
       "    </tr>\n",
       "    <tr>\n",
       "      <th>3086</th>\n",
       "      <td>18.0</td>\n",
       "      <td>15M 67</td>\n",
       "      <td>15-M-67</td>\n",
       "      <td>40.418078</td>\n",
       "      <td>-79.999499</td>\n",
       "      <td>418</td>\n",
       "      <td>CEDARHURST</td>\n",
       "      <td>BELTZHOOVER</td>\n",
       "      <td>NaN</td>\n",
       "      <td>3200</td>\n",
       "      <td>Approved for Sale</td>\n",
       "      <td>USE IN ACCORDANCE WITH ZONING</td>\n",
       "    </tr>\n",
       "    <tr>\n",
       "      <th>52</th>\n",
       "      <td>3.0</td>\n",
       "      <td>11E145</td>\n",
       "      <td>11-E-145</td>\n",
       "      <td>40.439180</td>\n",
       "      <td>-79.978898</td>\n",
       "      <td>1845 47</td>\n",
       "      <td>COLWELL</td>\n",
       "      <td>LOWER HILL</td>\n",
       "      <td>NaN</td>\n",
       "      <td>2424</td>\n",
       "      <td>Approved for Sale</td>\n",
       "      <td>USE IN ACCORDANCE WITH ZONING</td>\n",
       "    </tr>\n",
       "    <tr>\n",
       "      <th>961</th>\n",
       "      <td>12.0</td>\n",
       "      <td>124K103</td>\n",
       "      <td>124-K-103</td>\n",
       "      <td>40.466276</td>\n",
       "      <td>-79.910729</td>\n",
       "      <td>6313</td>\n",
       "      <td>JOSEPH</td>\n",
       "      <td>LARIMER</td>\n",
       "      <td>NaN</td>\n",
       "      <td>2863</td>\n",
       "      <td>Hold for URA</td>\n",
       "      <td>APPROVED FOR A SALE</td>\n",
       "    </tr>\n",
       "    <tr>\n",
       "      <th>486</th>\n",
       "      <td>10.0</td>\n",
       "      <td>50D108</td>\n",
       "      <td>50-D-108</td>\n",
       "      <td>40.470489</td>\n",
       "      <td>-79.934972</td>\n",
       "      <td>5355</td>\n",
       "      <td>WARBLE</td>\n",
       "      <td>GARFIELD</td>\n",
       "      <td>NaN</td>\n",
       "      <td>5935</td>\n",
       "      <td>Approved for Sale</td>\n",
       "      <td>USE IN ACCORDANCE WITH ZONING</td>\n",
       "    </tr>\n",
       "    <tr>\n",
       "      <th>28</th>\n",
       "      <td>3.0</td>\n",
       "      <td>11A206</td>\n",
       "      <td>11-A-206</td>\n",
       "      <td>40.440613</td>\n",
       "      <td>-79.979906</td>\n",
       "      <td>264</td>\n",
       "      <td>WICK</td>\n",
       "      <td>CRAWFORD ROBERTS</td>\n",
       "      <td>NaN</td>\n",
       "      <td>2400</td>\n",
       "      <td>Hold for URA</td>\n",
       "      <td>APPROVED FOR A SALE</td>\n",
       "    </tr>\n",
       "    <tr>\n",
       "      <th>1500</th>\n",
       "      <td>12.0</td>\n",
       "      <td>173C274</td>\n",
       "      <td>173-C-274</td>\n",
       "      <td>40.471218</td>\n",
       "      <td>-79.888449</td>\n",
       "      <td>7273</td>\n",
       "      <td>VERONA</td>\n",
       "      <td>LINCOLN-LEMINGTON-BELMAR</td>\n",
       "      <td>NaN</td>\n",
       "      <td>4250</td>\n",
       "      <td>Approved for Sale</td>\n",
       "      <td>USE IN ACCORDANCE WITH ZONING</td>\n",
       "    </tr>\n",
       "    <tr>\n",
       "      <th>1978</th>\n",
       "      <td>13.0</td>\n",
       "      <td>174K311</td>\n",
       "      <td>174-K-311</td>\n",
       "      <td>40.455510</td>\n",
       "      <td>-79.891579</td>\n",
       "      <td>7511</td>\n",
       "      <td>BENNETT</td>\n",
       "      <td>HOMEWOOD SOUTH</td>\n",
       "      <td>NaN</td>\n",
       "      <td>2610</td>\n",
       "      <td>Hold for URA</td>\n",
       "      <td>APPROVED FOR A SALE</td>\n",
       "    </tr>\n",
       "    <tr>\n",
       "      <th>351</th>\n",
       "      <td>5.0</td>\n",
       "      <td>26K203</td>\n",
       "      <td>26-K-203</td>\n",
       "      <td>40.456367</td>\n",
       "      <td>-79.960361</td>\n",
       "      <td>3453</td>\n",
       "      <td>OLNEY</td>\n",
       "      <td>UPPER HILL</td>\n",
       "      <td>NaN</td>\n",
       "      <td>1625</td>\n",
       "      <td>Approved for Sale</td>\n",
       "      <td>USE IN ACCORDANCE WITH ZONING</td>\n",
       "    </tr>\n",
       "    <tr>\n",
       "      <th>3402</th>\n",
       "      <td>20.0</td>\n",
       "      <td>42H101</td>\n",
       "      <td>42-H-101</td>\n",
       "      <td>40.459251</td>\n",
       "      <td>-80.053193</td>\n",
       "      <td>3206</td>\n",
       "      <td>STAFFORD</td>\n",
       "      <td>SHERADEN</td>\n",
       "      <td>NaN</td>\n",
       "      <td>5094</td>\n",
       "      <td>Approved for Sale</td>\n",
       "      <td>USE IN ACCORDANCE WITH ZONING</td>\n",
       "    </tr>\n",
       "  </tbody>\n",
       "</table>\n",
       "</div>"
      ],
      "text/plain": [
       "      Ward BlockLot MAPBLOCKLO   latitude  longitude StreetNumber  \\\n",
       "511   10.0   50F121   50-F-121  40.467819 -79.941912          418   \n",
       "3086  18.0   15M 67    15-M-67  40.418078 -79.999499          418   \n",
       "52     3.0   11E145   11-E-145  40.439180 -79.978898      1845 47   \n",
       "961   12.0  124K103  124-K-103  40.466276 -79.910729         6313   \n",
       "486   10.0   50D108   50-D-108  40.470489 -79.934972         5355   \n",
       "28     3.0   11A206   11-A-206  40.440613 -79.979906          264   \n",
       "1500  12.0  173C274  173-C-274  40.471218 -79.888449         7273   \n",
       "1978  13.0  174K311  174-K-311  40.455510 -79.891579         7511   \n",
       "351    5.0   26K203   26-K-203  40.456367 -79.960361         3453   \n",
       "3402  20.0   42H101   42-H-101  40.459251 -80.053193         3206   \n",
       "\n",
       "        StreetName              Neighborhood LandUse LandArea  \\\n",
       "511   N WINEBIDDLE                  GARFIELD     NaN     1370   \n",
       "3086    CEDARHURST               BELTZHOOVER     NaN     3200   \n",
       "52         COLWELL                LOWER HILL     NaN     2424   \n",
       "961         JOSEPH                   LARIMER     NaN     2863   \n",
       "486         WARBLE                  GARFIELD     NaN     5935   \n",
       "28            WICK          CRAWFORD ROBERTS     NaN     2400   \n",
       "1500        VERONA  LINCOLN-LEMINGTON-BELMAR     NaN     4250   \n",
       "1978       BENNETT            HOMEWOOD SOUTH     NaN     2610   \n",
       "351          OLNEY                UPPER HILL     NaN     1625   \n",
       "3402      STAFFORD                  SHERADEN     NaN     5094   \n",
       "\n",
       "               SaleCode               SALEDESCRIPTION2  \n",
       "511        Hold for URA            APPROVED FOR A SALE  \n",
       "3086  Approved for Sale  USE IN ACCORDANCE WITH ZONING  \n",
       "52    Approved for Sale  USE IN ACCORDANCE WITH ZONING  \n",
       "961        Hold for URA            APPROVED FOR A SALE  \n",
       "486   Approved for Sale  USE IN ACCORDANCE WITH ZONING  \n",
       "28         Hold for URA            APPROVED FOR A SALE  \n",
       "1500  Approved for Sale  USE IN ACCORDANCE WITH ZONING  \n",
       "1978       Hold for URA            APPROVED FOR A SALE  \n",
       "351   Approved for Sale  USE IN ACCORDANCE WITH ZONING  \n",
       "3402  Approved for Sale  USE IN ACCORDANCE WITH ZONING  "
      ]
     },
     "execution_count": 64,
     "metadata": {},
     "output_type": "execute_result"
    }
   ],
   "source": [
    "import pandas as pd\n",
    "house = pd.read_csv(\"House.csv\")\n",
    "house.sample(10)\n"
   ]
  },
  {
   "cell_type": "markdown",
   "metadata": {},
   "source": [
    "Bascially its just me getting the data imported."
   ]
  },
  {
   "cell_type": "code",
   "execution_count": 65,
   "metadata": {},
   "outputs": [
    {
     "data": {
      "text/plain": [
       "105"
      ]
     },
     "execution_count": 65,
     "metadata": {},
     "output_type": "execute_result"
    }
   ],
   "source": [
    "len(house['Neighborhood'].unique())"
   ]
  },
  {
   "cell_type": "markdown",
   "metadata": {},
   "source": [
    "Foundout that there are 105 different neighborhoods in the dataset that was mentioned."
   ]
  },
  {
   "cell_type": "code",
   "execution_count": 66,
   "metadata": {},
   "outputs": [
    {
     "data": {
      "text/plain": [
       "['LARIMER',\n",
       " 'HOMEWOOD SOUTH',\n",
       " 'HOMEWOOD NORTH',\n",
       " 'HAZELWOOD',\n",
       " 'PERRY SOUTH',\n",
       " 'MIDDLE HILL',\n",
       " 'GARFIELD',\n",
       " 'CALIFORNIA-KIRKBRIDE',\n",
       " 'LINCOLN-LEMINGTON-BELMAR',\n",
       " 'BELTZHOOVER',\n",
       " 'HOMEWOOD WEST',\n",
       " 'EAST HILLS',\n",
       " 'SHERADEN',\n",
       " 'SPRING HILL-CITY VIEW',\n",
       " 'ELLIOTT',\n",
       " 'MARSHALL-SHADELAND',\n",
       " 'CRAWFORD-ROBERTS',\n",
       " 'UPPER HILL',\n",
       " 'CARRICK',\n",
       " 'ARLINGTON',\n",
       " 'PERRY NORTH',\n",
       " 'SPRING GARDEN',\n",
       " 'SOUTH SIDE SLOPES',\n",
       " 'MANCHESTER',\n",
       " 'BEECHVIEW',\n",
       " 'UPPER LAWRENCEVILLE',\n",
       " 'ALLENTOWN',\n",
       " 'CRAFTON HEIGHTS',\n",
       " 'BRIGHTON HEIGHTS',\n",
       " 'WESTWOOD',\n",
       " 'BROOKLINE',\n",
       " 'NEW HOMESTEAD',\n",
       " 'OVERBROOK',\n",
       " 'CENTRAL NORTHSIDE',\n",
       " 'FINEVIEW',\n",
       " 'EAST ALLEGHENY',\n",
       " 'MOUNT WASHINGTON',\n",
       " 'GREENFIELD',\n",
       " 'SQUIRREL HILL',\n",
       " 'FAIRYWOOD',\n",
       " 'POLISH HILL',\n",
       " 'KNOXVILLE',\n",
       " 'LOWER HILL',\n",
       " 'TROY HILL',\n",
       " 'TERRACE VILLAGE',\n",
       " 'WEST OAKLAND',\n",
       " 'BLOOMFIELD',\n",
       " 'ST. CLAIR',\n",
       " 'DUQUESNE HEIGHTS',\n",
       " 'LINCOLN-LEMINGTON',\n",
       " 'WEST END',\n",
       " 'SUMMER HILL',\n",
       " 'LINCOLN PLACE',\n",
       " 'CENTRAL NORTH SIDE',\n",
       " 'HOMEWWOD NORTH',\n",
       " 'OAKWOOD',\n",
       " 'STANTON HEIGHTS',\n",
       " 'MORNINGSIDE',\n",
       " 'EAST CARNEGIE',\n",
       " 'CHARTIERS CITY',\n",
       " 'EAST LIBERTY',\n",
       " 'LINCOLN-LEMMINGTON-BELMAR',\n",
       " 'BLUFF',\n",
       " 'HAYS',\n",
       " 'BANKSVILLE',\n",
       " 'RIDGEMONT',\n",
       " 'MT OLIVER',\n",
       " 'BON AIR',\n",
       " 'HOMEWOOD',\n",
       " 'CRAWFORD ROBERTS',\n",
       " 'POINT BREEZE NORTH',\n",
       " 'ESPLEN',\n",
       " 'SOUTH OAKLAND',\n",
       " 'SOUTHSIDE SLOPES',\n",
       " 'OAKLAND',\n",
       " 'WINDGAP',\n",
       " 'LINCOLN LEMINGTON BELMAR',\n",
       " 'HOMESTEAD WEST',\n",
       " 'CALIF KIRKBRIDE',\n",
       " 'LOWER LAWRENCEVILLE',\n",
       " 'HOMEWWOD SOUTH',\n",
       " 'HOMEWOOD SOUT',\n",
       " 'SQUIRREL HILL SOUTH',\n",
       " 'H9MEWOOD SOUTH',\n",
       " 'MDDLE HILL',\n",
       " 'BOROUGH OF ASPINWALL',\n",
       " 'SOUTH SIDE FLATS',\n",
       " 'PERRY CENTRAL',\n",
       " 'LAWRENCEVILLE',\n",
       " 'SHALER TWP',\n",
       " 'EILLOTT',\n",
       " 'CHATEAU',\n",
       " 'LARIMTER',\n",
       " 'SOUTHSIDE FLATS',\n",
       " 'MARHSALL-SHADELAND',\n",
       " 'HOMWOOD NORTH',\n",
       " 'LINCOLN-LENINGTON-BELMAR',\n",
       " 'SHERIDAN',\n",
       " 'SHADYSIDE',\n",
       " 'HOMWOOD SOUTH',\n",
       " 'GLEN HAZEL',\n",
       " 'HIGHLAND PARK',\n",
       " 'LRIMER',\n",
       " 'MARSHAL-SHADELAND']"
      ]
     },
     "execution_count": 66,
     "metadata": {},
     "output_type": "execute_result"
    }
   ],
   "source": [
    "n = 105\n",
    "\n",
    "house['Neighborhood'].value_counts()[:n].index.tolist()"
   ]
  },
  {
   "cell_type": "markdown",
   "metadata": {},
   "source": [
    "I put the neighborhoods as a list from the most avaibale to the least."
   ]
  },
  {
   "cell_type": "code",
   "execution_count": 67,
   "metadata": {},
   "outputs": [
    {
     "data": {
      "text/plain": [
       "LARIMER                 574\n",
       "HOMEWOOD SOUTH          364\n",
       "HOMEWOOD NORTH          341\n",
       "HAZELWOOD               339\n",
       "PERRY SOUTH             240\n",
       "                       ... \n",
       "BOROUGH OF ASPINWALL      1\n",
       "MDDLE HILL                1\n",
       "H9MEWOOD SOUTH            1\n",
       "SQUIRREL HILL SOUTH       1\n",
       "MARSHAL-SHADELAND         1\n",
       "Name: Neighborhood, Length: 104, dtype: int64"
      ]
     },
     "execution_count": 67,
     "metadata": {},
     "output_type": "execute_result"
    }
   ],
   "source": [
    "hl = house['Neighborhood']\n",
    "hd = hl.value_counts().sort_values(ascending=False)\n",
    "ha = hl.value_counts().sort_values(ascending=True)\n",
    "hd"
   ]
  },
  {
   "cell_type": "markdown",
   "metadata": {},
   "source": [
    "Something that became a bit of a trouble is when I discovered that some of the neighborhoods had typos. It kind of made the whole process a little bit troublesome, to find which \"Neighborhood\" was a typo. For example (H9mewood - Homewood),(Mddle Hill - Middle Hill), (Marshal-Shadeland - Marshall-Shadeland)(Homwood - Homewood), (Lrimer - Larimer), etc."
   ]
  },
  {
   "cell_type": "code",
   "execution_count": 68,
   "metadata": {},
   "outputs": [],
   "source": [
    "import matplotlib.pyplot as pl"
   ]
  },
  {
   "cell_type": "code",
   "execution_count": 69,
   "metadata": {},
   "outputs": [
    {
     "data": {
      "text/plain": [
       "LARIMER                     574\n",
       "HOMEWOOD SOUTH              364\n",
       "HOMEWOOD NORTH              341\n",
       "HAZELWOOD                   339\n",
       "PERRY SOUTH                 240\n",
       "MIDDLE HILL                 217\n",
       "GARFIELD                    213\n",
       "CALIFORNIA-KIRKBRIDE        200\n",
       "LINCOLN-LEMINGTON-BELMAR    168\n",
       "BELTZHOOVER                 140\n",
       "HOMEWOOD WEST               126\n",
       "EAST HILLS                   98\n",
       "SHERADEN                     93\n",
       "SPRING HILL-CITY VIEW        88\n",
       "ELLIOTT                      77\n",
       "MARSHALL-SHADELAND           76\n",
       "CRAWFORD-ROBERTS             66\n",
       "UPPER HILL                   63\n",
       "CARRICK                      55\n",
       "ARLINGTON                    49\n",
       "PERRY NORTH                  48\n",
       "SPRING GARDEN                47\n",
       "SOUTH SIDE SLOPES            46\n",
       "MANCHESTER                   43\n",
       "UPPER LAWRENCEVILLE          41\n",
       "ALLENTOWN                    41\n",
       "BEECHVIEW                    41\n",
       "CRAFTON HEIGHTS              39\n",
       "BRIGHTON HEIGHTS             37\n",
       "WESTWOOD                     36\n",
       "Name: Neighborhood, dtype: int64"
      ]
     },
     "execution_count": 69,
     "metadata": {},
     "output_type": "execute_result"
    }
   ],
   "source": [
    "hd.head(30)"
   ]
  },
  {
   "cell_type": "code",
   "execution_count": 70,
   "metadata": {},
   "outputs": [
    {
     "data": {
      "text/plain": [
       "<matplotlib.axes._subplots.AxesSubplot at 0x7f7201b90a00>"
      ]
     },
     "execution_count": 70,
     "metadata": {},
     "output_type": "execute_result"
    },
    {
     "data": {
      "image/png": "[encoded data removed]",
      "text/plain": [
       "<Figure size 432x288 with 1 Axes>"
      ]
     },
     "metadata": {
      "needs_background": "light"
     },
     "output_type": "display_data"
    }
   ],
   "source": [
    "hd.head(30).plot(kind =\"bar\")"
   ]
  },
  {
   "cell_type": "code",
   "execution_count": 71,
   "metadata": {},
   "outputs": [
    {
     "data": {
      "text/plain": [
       "<matplotlib.axes._subplots.AxesSubplot at 0x7f7201c9ebe0>"
      ]
     },
     "execution_count": 71,
     "metadata": {},
     "output_type": "execute_result"
    },
    {
     "data": {
      "image/png": "[encoded data removed]",
      "text/plain": [
       "<Figure size 432x288 with 1 Axes>"
      ]
     },
     "metadata": {
      "needs_background": "light"
     },
     "output_type": "display_data"
    }
   ],
   "source": [
    "ha.head(70).plot(kind=\"bar\")"
   ]
  },
  {
   "cell_type": "code",
   "execution_count": 77,
   "metadata": {},
   "outputs": [
    {
     "data": {
      "text/plain": [
       "MARSHAL-SHADELAND             1\n",
       "SQUIRREL HILL SOUTH           1\n",
       "H9MEWOOD SOUTH                1\n",
       "MDDLE HILL                    1\n",
       "BOROUGH OF ASPINWALL          1\n",
       "SOUTH SIDE FLATS              1\n",
       "PERRY CENTRAL                 1\n",
       "LAWRENCEVILLE                 1\n",
       "SHALER TWP                    1\n",
       "EILLOTT                       1\n",
       "CHATEAU                       1\n",
       "LRIMER                        1\n",
       "SOUTHSIDE FLATS               1\n",
       "MARHSALL-SHADELAND            1\n",
       "HOMWOOD NORTH                 1\n",
       "LINCOLN-LENINGTON-BELMAR      1\n",
       "SHERIDAN                      1\n",
       "SHADYSIDE                     1\n",
       "HOMWOOD SOUTH                 1\n",
       "GLEN HAZEL                    1\n",
       "HIGHLAND PARK                 1\n",
       "LARIMTER                      1\n",
       "OAKLAND                       2\n",
       "WINDGAP                       2\n",
       "LINCOLN LEMINGTON BELMAR      2\n",
       "HOMESTEAD WEST                2\n",
       "CALIF KIRKBRIDE               2\n",
       "LOWER LAWRENCEVILLE           2\n",
       "HOMEWWOD SOUTH                2\n",
       "HOMEWOOD SOUT                 2\n",
       "ESPLEN                        3\n",
       "SOUTHSIDE SLOPES              3\n",
       "SOUTH OAKLAND                 3\n",
       "POINT BREEZE NORTH            4\n",
       "CRAWFORD ROBERTS              4\n",
       "HOMEWOOD                      4\n",
       "BON AIR                       5\n",
       "MT OLIVER                     5\n",
       "RIDGEMONT                     5\n",
       "CHARTIERS CITY                6\n",
       "EAST LIBERTY                  6\n",
       "LINCOLN-LEMMINGTON-BELMAR     6\n",
       "HAYS                          6\n",
       "BLUFF                         6\n",
       "BANKSVILLE                    6\n",
       "EAST CARNEGIE                 7\n",
       "MORNINGSIDE                   7\n",
       "STANTON HEIGHTS               7\n",
       "OAKWOOD                       8\n",
       "HOMEWWOD NORTH                8\n",
       "CENTRAL NORTH SIDE            8\n",
       "LINCOLN PLACE                 9\n",
       "SUMMER HILL                  10\n",
       "Name: Neighborhood, dtype: int64"
      ]
     },
     "execution_count": 77,
     "metadata": {},
     "output_type": "execute_result"
    }
   ],
   "source": [
    "ha.head(53)"
   ]
  },
  {
   "cell_type": "markdown",
   "metadata": {},
   "source": [
    "If we were to remove the type and to look at the places with one house that goverment have for sale we could conclude that the 10 best neighborhoods in Pittsburgh are Squirrel Hill, Aspinwall, SouthSide Flats, Perry County, Lawrenceville, Shaler Twp, Chateau, Shadyside, Sheridan, Highland Park."
   ]
  },
  {
   "cell_type": "markdown",
   "metadata": {},
   "source": [
    "So overall, my data will not be the most effcient at find the best neighborhoods in Pittsburgh, but its pretty good at finding the bad ones. Even with that, I belive if we were to ignore the typos and look at the numbers, the best neighborhoods will likely to be the lowest numbers or the ones thats not even mentioned at all on the dataset."
   ]
  },
  {
   "cell_type": "code",
   "execution_count": null,
   "metadata": {},
   "outputs": [],
   "source": []
  }
 ],
 "metadata": {
  "kernelspec": {
   "display_name": "Python 3",
   "language": "python",
   "name": "python3"
  },
  "language_info": {
   "codemirror_mode": {
    "name": "ipython",
    "version": 3
   },
   "file_extension": ".py",
   "mimetype": "text/x-python",
   "name": "python",
   "nbconvert_exporter": "python",
   "pygments_lexer": "ipython3",
   "version": "3.8.3"
  }
 },
 "nbformat": 4,
 "nbformat_minor": 4
}

{
 "cells": [
  {
   "cell_type": "markdown",
   "metadata": {},
   "source": [
    "# Best NeighborHood In Pittsburgh"
   ]
  },
  {
   "cell_type": "markdown",
   "metadata": {},
   "source": [
    "## Introduction"
   ]
  },
  {
   "cell_type": "markdown",
   "metadata": {},
   "source": [
    "Imagine you are stuck in traffic day after day and then you get home and here about the 5th crime this week in your area you are starting to get worried that the next crime will happen to you. While all of this happens, people are moving out leaving plenty of public housing available. Would you want to like in that neighborhood? Yeah, neither would we. For this project we have decided to determine the best neighborhood in Pittsburgh. For this purpose, we have decided to analyze three different aspects of a neighborhoods: the total crime, the traffic, and the available housing. Our group thinks that these aspects of a Neighborhood can give us an important insight to the \"best neighborhood.\" First let’s start with the neighborhoods with the least crime."
   ]
  },
  {
   "cell_type": "markdown",
   "metadata": {},
   "source": [
    "# Crime and Police Activities in Different Neighborhoods"
   ]
  },
  {
   "cell_type": "code",
   "execution_count": 1,
   "metadata": {},
   "outputs": [],
   "source": [
    "import pandas as pd\n",
    "import numpy as np\n",
    "import geopandas\n",
    "%matplotlib inline\n",
    "import matplotlib.pyplot as plt\n"
   ]
  },
  {
   "cell_type": "markdown",
   "metadata": {},
   "source": [
    "For this data set the unit used will be called TC for \"Total Crime.\" The less TC a neighborhood has the better the neighborhood is. TC will be calculated from how many crimes occur in certain neighborhoods. For the purposes of finding the best neighborhood the top 5 neighborhoods will be inspected for how many crimes have been committed."
   ]
  },
  {
   "cell_type": "code",
   "execution_count": 2,
   "metadata": {},
   "outputs": [],
   "source": [
    "newCrime = pd.read_csv(\"2016-recent.csv\", index_col=\"PK\", low_memory = False)"
   ]
  },
  {
   "cell_type": "code",
   "execution_count": 3,
   "metadata": {},
   "outputs": [
    {
     "data": {
      "text/plain": [
       "99"
      ]
     },
     "execution_count": 3,
     "metadata": {},
     "output_type": "execute_result"
    }
   ],
   "source": [
    "len(newCrime[\"INCIDENTNEIGHBORHOOD\"].unique())"
   ]
  },
  {
   "cell_type": "code",
   "execution_count": 4,
   "metadata": {},
   "outputs": [
    {
     "data": {
      "text/plain": [
       "array(['North Shore', 'Upper Lawrenceville', 'Northview Heights',\n",
       "       'Golden Triangle/Civic Arena', 'South Side Flats', 'Elliott',\n",
       "       'Homewood North', 'South Side Slopes', 'Carrick', 'South Oakland',\n",
       "       nan, 'Bloomfield', 'Beechview', 'Bluff', 'Strip District',\n",
       "       'Mount Washington', 'East Carnegie', 'Crafton Heights',\n",
       "       'Marshall-Shadeland', 'East Liberty', 'East Allegheny',\n",
       "       'Friendship', 'Arlington', 'Central Northside',\n",
       "       'Spring Hill-City View', 'Brighton Heights', 'Westwood',\n",
       "       'East Hills', 'Brookline', 'South Shore', 'Lower Lawrenceville',\n",
       "       'Bedford Dwellings', 'Troy Hill-Herrs Island', 'Central Oakland',\n",
       "       'Garfield', 'West End', 'West Oakland', 'Central Lawrenceville',\n",
       "       'Lincoln-Lemington-Belmar', 'Sheraden', 'Beltzhoover',\n",
       "       'Outside City', 'Squirrel Hill South', 'North Oakland',\n",
       "       'Allentown', 'Perry North', 'Homewood South', 'Shadyside',\n",
       "       'Manchester', 'Squirrel Hill North', 'Regent Square',\n",
       "       'Homewood West', 'Allegheny Center', 'Highland Park',\n",
       "       'Middle Hill', 'Overbrook', 'Hazelwood', 'Greenfield',\n",
       "       'Morningside', 'Knoxville', 'Point Breeze', 'Duquesne Heights',\n",
       "       'Perry South', 'California-Kirkbride', 'Banksville',\n",
       "       'Point Breeze North', 'Bon Air', 'Polish Hill', 'Lincoln Place',\n",
       "       'Fineview', 'Spring Garden', 'Larimer', 'Esplen',\n",
       "       'Terrace Village', 'Allegheny West', 'Crawford-Roberts', 'Windgap',\n",
       "       'Stanton Heights', 'Glen Hazel', 'Upper Hill', 'Hays', 'Ridgemont',\n",
       "       'Oakwood', 'Outside State', 'Chateau', 'Swisshelm Park',\n",
       "       'Outside County', 'Fairywood', 'Chartiers City',\n",
       "       'Arlington Heights', 'St. Clair', 'Summer Hill',\n",
       "       'Mt. Oliver Neighborhood', 'New Homestead', 'Mt. Oliver Boro',\n",
       "       'Central Business District', 'Troy Hill', 'Central North Side',\n",
       "       'Mount Oliver'], dtype=object)"
      ]
     },
     "execution_count": 4,
     "metadata": {},
     "output_type": "execute_result"
    }
   ],
   "source": [
    "newCrime[\"INCIDENTNEIGHBORHOOD\"].unique()"
   ]
  },
  {
   "cell_type": "code",
   "execution_count": 5,
   "metadata": {},
   "outputs": [
    {
     "data": {
      "text/plain": [
       "Mt. Oliver Boro             39\n",
       "Outside County              91\n",
       "Outside State              106\n",
       "Chartiers City             116\n",
       "Mt. Oliver Neighborhood    117\n",
       "New Homestead              148\n",
       "Ridgemont                  170\n",
       "Swisshelm Park             186\n",
       "Mount Oliver               191\n",
       "Arlington Heights          218\n",
       "East Carnegie              226\n",
       "Summer Hill                231\n",
       "Name: INCIDENTNEIGHBORHOOD, dtype: int64"
      ]
     },
     "execution_count": 5,
     "metadata": {},
     "output_type": "execute_result"
    }
   ],
   "source": [
    "crimeCounts = newCrime['INCIDENTNEIGHBORHOOD'].value_counts().sort_values(ascending=True)\n",
    "focusedCrime = crimeCounts.head(12)\n",
    "crimeCounts.head(12)"
   ]
  },
  {
   "cell_type": "markdown",
   "metadata": {},
   "source": [
    "The top 10 contenders are show here because Outside County, Outside State, and Swisshelm Park are not actually neighborhoods, so it is redundant for our purposes. This means out of the 99 neighborhoods within this Pittsburgh dataset the ones with the least crimes are Mt. Oliver Boro, Mt. Oliver Neighborhood, Chartiers City, Swisshelm, Ridgemont, New Homestead, East Carnegie, Arlington Heights, Mount Olver, and Summer Hill. The next graphs plot a helpful graph to visualize the TC of each neighborhood."
   ]
  },
  {
   "cell_type": "code",
   "execution_count": 6,
   "metadata": {},
   "outputs": [
    {
     "data": {
      "text/plain": [
       "Text(0.5, 1.0, 'Total Number of Crimes From 2016-Present')"
      ]
     },
     "execution_count": 6,
     "metadata": {},
     "output_type": "execute_result"
    },
    {
     "data": {
      "image/png": "[encoded data removed]",
      "text/plain": [
       "<Figure size 432x288 with 1 Axes>"
      ]
     },
     "metadata": {
      "needs_background": "light"
     },
     "output_type": "display_data"
    }
   ],
   "source": [
    "g1 = crimeCounts.head(13).plot(kind = \"bar\")\n",
    "plt.xticks(rotation=90, horizontalalignment = \"center\")\n",
    "plt.xlabel(\"Neighborhoods\")\n",
    "plt.ylabel(\"Total Crime\")\n",
    "plt.title(\"Total Number of Crimes From 2016-Present\")"
   ]
  },
  {
   "cell_type": "code",
   "execution_count": 7,
   "metadata": {},
   "outputs": [
    {
     "data": {
      "text/plain": [
       "Text(0.5, 1.0, 'Total Number of Crimes from 2016 - Present')"
      ]
     },
     "execution_count": 7,
     "metadata": {},
     "output_type": "execute_result"
    },
    {
     "data": {
      "image/png": "[encoded data removed]",
      "text/plain": [
       "<Figure size 432x288 with 1 Axes>"
      ]
     },
     "metadata": {
      "needs_background": "light"
     },
     "output_type": "display_data"
    }
   ],
   "source": [
    "crimeCounts.tail(10).plot(kind = \"bar\")\n",
    "plt.xticks(rotation=90, horizontalalignment = \"center\")\n",
    "plt.xlabel(\"Neighborhoods\")\n",
    "plt.ylabel(\"Total Crime\")\n",
    "plt.title(\"Total Number of Crimes from 2016 - Present\")"
   ]
  },
  {
   "cell_type": "markdown",
   "metadata": {},
   "source": [
    "These graphs represent the more recent crimes in the neighborhoods of Pittsburgh. It also shows the most crime ridden neighborhoods so that one can see the difference between the most versus the least. These 10 neighborhoods will shortly be multiplied by 2 other units and be converted into the \"black cats\" or BC. The lower the BC the better the neighborhood."
   ]
  },
  {
   "cell_type": "markdown",
   "metadata": {},
   "source": [
    "From these graphs you can see that the difference in the numbers of crimes is astronomical. When considering the best neighborhood, I would want to live in one with as little crime as possible. There is a potential downside to this data set though. The data set does not account for population or the severity of the crime which could change people's answer on the best neighborhood. So this data set counts total crime rather than crime rate so this is one potentional downside. "
   ]
  },
  {
   "cell_type": "markdown",
   "metadata": {},
   "source": [
    "For my conclusion it would be that Mt. Oliver Boro is the best Neighborhood because it has the lowest TC. However, the crime level is not the only thing that determines whether a neighborhood is good or not, there are also other factors. In this case Mt. Oliver Boro is the winner."
   ]
  },
  {
   "cell_type": "markdown",
   "metadata": {},
   "source": [
    "## Average Traffic in Neighborhoods"
   ]
  },
  {
   "cell_type": "markdown",
   "metadata": {},
   "source": [
    "In this dataset, we are looking at the total amount of average total daily car traffic is present in each neighborhood from various sources. The neighborhood with the least car traffic will be considered the best neighborhood."
   ]
  },
  {
   "cell_type": "code",
   "execution_count": 9,
   "metadata": {},
   "outputs": [],
   "source": [
    "df = pd.read_csv(\"carz.csv\")"
   ]
  },
  {
   "cell_type": "code",
   "execution_count": 10,
   "metadata": {},
   "outputs": [
    {
     "name": "stderr",
     "output_type": "stream",
     "text": [
      "<ipython-input-10-20841c67ad4f>:1: FutureWarning: The pandas.np module is deprecated and will be removed from pandas in a future version. Import numpy directly instead\n",
      "  beforefiltercars = df.groupby(\"neighborhood\").sum()['average_daily_car_traffic'].replace(0, pd.np.nan).dropna()\n"
     ]
    },
    {
     "data": {
      "text/plain": [
       "Text(0, 0.5, 'Average cars per day')"
      ]
     },
     "execution_count": 10,
     "metadata": {},
     "output_type": "execute_result"
    },
    {
     "data": {
      "image/png": "[encoded data removed]",
      "text/plain": [
       "<Figure size 432x288 with 1 Axes>"
      ]
     },
     "metadata": {
      "needs_background": "light"
     },
     "output_type": "display_data"
    }
   ],
   "source": [
    "beforefiltercars = df.groupby(\"neighborhood\").sum()['average_daily_car_traffic'].replace(0, pd.np.nan).dropna()\n",
    "beforefiltercars.sort_values(ascending=True).head(10).plot(kind = \"bar\")\n",
    "plt.ylabel(\"Average cars per day\")"
   ]
  },
  {
   "cell_type": "markdown",
   "metadata": {},
   "source": [
    "This is a bar graph of the top ten contenders for best neighborhood based on traffic counts."
   ]
  },
  {
   "cell_type": "code",
   "execution_count": 11,
   "metadata": {},
   "outputs": [
    {
     "data": {
      "text/plain": [
       "Text(0, 0.5, 'Average cars per day')"
      ]
     },
     "execution_count": 11,
     "metadata": {},
     "output_type": "execute_result"
    },
    {
     "data": {
      "image/png": "[encoded data removed]",
      "text/plain": [
       "<Figure size 432x288 with 1 Axes>"
      ]
     },
     "metadata": {
      "needs_background": "light"
     },
     "output_type": "display_data"
    }
   ],
   "source": [
    "beforefiltercars.sort_values(ascending=True).head(20).plot(kind = \"bar\")\n",
    "plt.ylabel(\"Average cars per day\")"
   ]
  },
  {
   "cell_type": "code",
   "execution_count": 13,
   "metadata": {},
   "outputs": [
    {
     "name": "stderr",
     "output_type": "stream",
     "text": [
      "<ipython-input-13-e2924cbf9d14>:1: FutureWarning: The pandas.np module is deprecated and will be removed from pandas in a future version. Import numpy directly instead\n",
      "  num_cars = df.groupby(\"neighborhood\").sum()['average_daily_car_traffic'].replace(0, pd.np.nan).dropna()\n"
     ]
    },
    {
     "data": {
      "text/plain": [
       "neighborhood\n",
       "South Side Flats             115.0\n",
       "Lincoln Place                126.0\n",
       "Lincoln-Lemington-Belmar     195.0\n",
       "Fineview                     419.0\n",
       "Allegheny West               477.0\n",
       "New Homestead                666.0\n",
       "Overbrook                    777.0\n",
       "Summer Hill                  937.0\n",
       "Spring Garden               1226.0\n",
       "Beltzhoover                 1577.0\n",
       "Name: average_daily_car_traffic, dtype: float64"
      ]
     },
     "execution_count": 13,
     "metadata": {},
     "output_type": "execute_result"
    }
   ],
   "source": [
    "num_cars = df.groupby(\"neighborhood\").sum()['average_daily_car_traffic'].replace(0, pd.np.nan).dropna()\n",
    "num_cars.sort_values(ascending=True).head(10)"
   ]
  },
  {
   "cell_type": "markdown",
   "metadata": {},
   "source": [
    "These ten neighborhoods have the least average daily car traffic after filtering out neighborhoods with zero average daily car traffic.\n",
    "\n",
    "This brings me to one of the limitations of my dataset. The DOMI, or the Department of Mobility and Infrastructure counted the traffic based on traffic studies, some based on whether or not to install speed bumps. Because of this, the counters were not necessarily installed in all neighborhoods and were placed at select intersections and streets.\n",
    "\n",
    "The absence of data for some neighborhoods means counters were only placed in certain locations, so this may not be entirely indicative of the traffic in a neighborhood.\n",
    "\n",
    "As you can see in this bar graph of the first twenty neighborhoods sorted in ascending order, there are a few neighborhoods with low traffic but the amount of traffic starts to rapidly rise until around 2500. About half of the neighborhoods plotted here have around 2500 cars per day.\n",
    "\n",
    "From my data, I would conclude the best neighborhood is South Side Flats. It has the lowest average amount of cars per day compared to the other neighborhoods. Coming in close is Lincoln Place, which has a very similar amount of cars per day at 126."
   ]
  },
  {
   "cell_type": "markdown",
   "metadata": {},
   "source": [
    "## Jerry's Data"
   ]
  },
  {
   "cell_type": "markdown",
   "metadata": {},
   "source": [
    "## Combined Data"
   ]
  },
  {
   "cell_type": "markdown",
   "metadata": {},
   "source": [
    "This is code for when we eventually combine the notebooks. I am getting the crime from the top 10 lowest traffic areas that leo looked at here so we can combine the metrics into black cats."
   ]
  },
  {
   "cell_type": "markdown",
   "metadata": {},
   "source": [
    "## CT of Leo's Top 10"
   ]
  },
  {
   "cell_type": "markdown",
   "metadata": {},
   "source": [
    "I pulled leo's top ten neighborhoods and got there TC value."
   ]
  },
  {
   "cell_type": "code",
   "execution_count": 18,
   "metadata": {},
   "outputs": [
    {
     "name": "stdout",
     "output_type": "stream",
     "text": [
      "9302\n",
      "732\n",
      "3135\n",
      "741\n",
      "666\n",
      "148\n",
      "826\n",
      "231\n",
      "404\n",
      "800\n"
     ]
    }
   ],
   "source": [
    "South_Side_TC = newCrime.INCIDENTNEIGHBORHOOD.value_counts()['South Side Flats']\n",
    "print(South_Side_TC)\n",
    "\n",
    "Lincoln_Place_TC = newCrime.INCIDENTNEIGHBORHOOD.value_counts()['Lincoln Place']\n",
    "print(Lincoln_Place_TC)\n",
    "\n",
    "Lincoln_Belmar_TC= newCrime.INCIDENTNEIGHBORHOOD.value_counts()['Lincoln-Lemington-Belmar']\n",
    "print(Lincoln_Belmar_TC)\n",
    "\n",
    "Fineview_TC = newCrime.INCIDENTNEIGHBORHOOD.value_counts()['Fineview']\n",
    "print(Fineview_TC)\n",
    "\n",
    "Allegheny_West_TC = newCrime.INCIDENTNEIGHBORHOOD.value_counts()['Allegheny West']\n",
    "print(Allegheny_West_TC)\n",
    "\n",
    "New_Homestead_TC = newCrime.INCIDENTNEIGHBORHOOD.value_counts()['New Homestead']\n",
    "print(New_Homestead_TC)\n",
    "\n",
    "Overbrook_TC = newCrime.INCIDENTNEIGHBORHOOD.value_counts()['Overbrook']\n",
    "print(Overbrook_TC)\n",
    "\n",
    "Summer_Hill_TC = newCrime.INCIDENTNEIGHBORHOOD.value_counts()['Summer Hill']\n",
    "print(Summer_Hill_TC)\n",
    "\n",
    "Spring_Garden_TC = newCrime.INCIDENTNEIGHBORHOOD.value_counts()['Spring Garden']\n",
    "print(Spring_Garden_TC)\n",
    "\n",
    "Beltzhoover_TC = newCrime.INCIDENTNEIGHBORHOOD.value_counts()['Beltzhoover']\n",
    "print(Beltzhoover_TC)"
   ]
  },
  {
   "cell_type": "markdown",
   "metadata": {},
   "source": [
    "## CT of Jerry's Top 10"
   ]
  },
  {
   "cell_type": "markdown",
   "metadata": {},
   "source": [
    "I pulled Jerry's top neigborhoods and I got there TC as well. "
   ]
  },
  {
   "cell_type": "code",
   "execution_count": 19,
   "metadata": {},
   "outputs": [
    {
     "name": "stdout",
     "output_type": "stream",
     "text": [
      "5261\n",
      "3138\n",
      "3457\n",
      "972\n",
      "3920\n",
      "2131\n",
      "2200\n"
     ]
    }
   ],
   "source": [
    "Squirrel_Hill_TC = newCrime.INCIDENTNEIGHBORHOOD.value_counts()['Squirrel Hill North'] + newCrime.INCIDENTNEIGHBORHOOD.value_counts()['Squirrel Hill South']\n",
    "print(Squirrel_Hill_TC)\n",
    "\n",
    "# Aspinwall is not in my data set\n",
    "\n",
    "# Found South Side Flats in Leo's pull\n",
    "\n",
    "Perry_County_TC  = newCrime.INCIDENTNEIGHBORHOOD.value_counts()['Perry North'] + newCrime.INCIDENTNEIGHBORHOOD.value_counts()['Perry South']\n",
    "print(Perry_County_TC)\n",
    "\n",
    "Lawrenceville_TC = newCrime.INCIDENTNEIGHBORHOOD.value_counts()['Upper Lawrenceville']  = newCrime.INCIDENTNEIGHBORHOOD.value_counts()['Lower Lawrenceville'] + newCrime.INCIDENTNEIGHBORHOOD.value_counts()['Central Lawrenceville']\n",
    "print(Lawrenceville_TC)\n",
    "\n",
    "#Shaler also is not in this data set\n",
    "\n",
    "Chateau_TC  = newCrime.INCIDENTNEIGHBORHOOD.value_counts()['Chateau']\n",
    "print(Chateau_TC)\n",
    "\n",
    "Shadyside_TC = newCrime.INCIDENTNEIGHBORHOOD.value_counts()['Shadyside']\n",
    "print(Shadyside_TC)\n",
    "\n",
    "Sheraden_TC = newCrime.INCIDENTNEIGHBORHOOD.value_counts()['Sheraden']\n",
    "print(Sheraden_TC)\n",
    "\n",
    "Highland_Park_TC = newCrime.INCIDENTNEIGHBORHOOD.value_counts()['Highland Park']\n",
    "print(Highland_Park_TC)"
   ]
  },
  {
   "cell_type": "markdown",
   "metadata": {},
   "source": [
    "## Traffic Of Drake's Top 10"
   ]
  },
  {
   "cell_type": "markdown",
   "metadata": {},
   "source": [
    "I pulled Drake's top 10 neighborhoods and looked up the average daily traffic of each neighborhood."
   ]
  },
  {
   "cell_type": "code",
   "execution_count": 20,
   "metadata": {},
   "outputs": [
    {
     "name": "stdout",
     "output_type": "stream",
     "text": [
      "2571.0\n",
      "666.0\n",
      "937.0\n"
     ]
    }
   ],
   "source": [
    "#Mt. Oliver Boro was not present in this dataset.\n",
    "#Mt. Oliver Neighborhood was not present in this dataset.\n",
    "Chartiers_City_T = num_cars.get(key = 'Chartiers City')\n",
    "print(Chartiers_City_T)\n",
    "\n",
    "#Swisshelm Park had no value recorded and thus will not be considered\n",
    "\n",
    "# Ridgemont was not present in the data set\n",
    "\n",
    "New_Homestead_T = num_cars.get(key = 'New Homestead')\n",
    "print(New_Homestead_T)\n",
    "#East Carnegie was not present in this dataset.\n",
    "#Arlington Heights was not present in this dataset.\n",
    "#Mount Oliver was not present in this dataset.\n",
    "Summer_Hill_T = num_cars.get(key = 'Summer Hill')\n",
    "print(Summer_Hill_T)"
   ]
  },
  {
   "cell_type": "markdown",
   "metadata": {},
   "source": [
    "## Traffic of Jerry's Top 10"
   ]
  },
  {
   "cell_type": "code",
   "execution_count": 21,
   "metadata": {},
   "outputs": [
    {
     "name": "stdout",
     "output_type": "stream",
     "text": [
      "114754.0\n",
      "115.0\n",
      "31189.0\n",
      "16971.0\n",
      "66132.0\n",
      "23471.0\n"
     ]
    }
   ],
   "source": [
    "Squirrel_Hill_TC1 = num_cars.get(key = 'Squirrel Hill South')\n",
    "Squirrel_Hill_TC2 = num_cars.get(key = 'Squirrel Hill North')\n",
    "Squirrel_Hill_T = Squirrel_Hill_TC1 + Squirrel_Hill_TC2\n",
    "print(Squirrel_Hill_T)\n",
    "\n",
    "#Aspinwall was not present in this dataset.\n",
    "SouthSide_Flats_T =  num_cars.get(key = 'South Side Flats')\n",
    "print(SouthSide_Flats_T)\n",
    "\n",
    "Perry_TC1 = num_cars.get(key = 'Perry North')\n",
    "Perry_TC2 = num_cars.get(key = 'Perry South')\n",
    "Perry_County_T = Perry_TC1 + Perry_TC2\n",
    "print(Perry_County_T)\n",
    "\n",
    "Law1 = num_cars.get(key = 'Lower Lawrenceville')\n",
    "Law2 = num_cars.get(key = 'Central Lawrenceville')\n",
    "Lawrenceville_T = Law1 + Law2\n",
    "print(Lawrenceville_T)\n",
    "\n",
    "#Shaler Twp was not present in this dataset\n",
    "\n",
    "#Chateau had no values recorded and will not be considered in this project\n",
    "\n",
    "Shadyside_T = num_cars.get(key = 'Shadyside')\n",
    "print(Shadyside_T)\n",
    "\n",
    "#Sheridan was not present in this dataset\n",
    "\n",
    "Highland_Park_T = num_cars.get(key = 'Highland Park')\n",
    "print(Highland_Park_T)"
   ]
  },
  {
   "cell_type": "markdown",
   "metadata": {},
   "source": [
    "## Housing of Drake's Top 10"
   ]
  },
  {
   "cell_type": "code",
   "execution_count": 55,
   "metadata": {},
   "outputs": [],
   "source": [
    "##Jerry you can put your code here (I already di this for yours you can look at my example above if you need)"
   ]
  },
  {
   "cell_type": "markdown",
   "metadata": {},
   "source": [
    "## Housing of Leo's Top 10"
   ]
  },
  {
   "cell_type": "code",
   "execution_count": 56,
   "metadata": {},
   "outputs": [],
   "source": [
    "## Jerry you can put your other code required for this here"
   ]
  },
  {
   "cell_type": "markdown",
   "metadata": {},
   "source": [
    "## Final Conversion into Black Cats"
   ]
  },
  {
   "cell_type": "markdown",
   "metadata": {},
   "source": [
    "In this section we will convert all of our units into one single unit called black cats or BC to determine the best neighborhood. The idea of this metric is that black cats mean bad luck so the less of them you see the better out you are. Therfore, the neighborhood with the least amount of BC will be the best."
   ]
  },
  {
   "cell_type": "markdown",
   "metadata": {},
   "source": [
    "## Leo's Top 10"
   ]
  },
  {
   "cell_type": "markdown",
   "metadata": {},
   "source": [
    "This is the conversion to black cats of Leo's top 10. (We still need the housing values so multiply by the open houisng)"
   ]
  },
  {
   "cell_type": "code",
   "execution_count": 22,
   "metadata": {},
   "outputs": [
    {
     "name": "stdout",
     "output_type": "stream",
     "text": [
      "1069730.0 92232.0 611325.0 310479.0 317682.0 98568.0 641802.0 216447.0 495304.0 1261600.0\n"
     ]
    }
   ],
   "source": [
    "SouthSide_Flats_BC = 115.0 * South_Side_TC\n",
    "Lincoln_Place_BC =   126.0 * Lincoln_Place_TC\n",
    "Lincoln_Lemington_Belmar_BC = 195.0 * Lincoln_Belmar_TC\n",
    "Fineview_BC = 419.0 * Fineview_TC\n",
    "Allegheny_West_BC = 477.0 * Allegheny_West_TC\n",
    "New_Homestead_BC = 666.0 * New_Homestead_TC\n",
    "Overbrook_BC = 777.0 * Overbrook_TC\n",
    "Summer_Hill_BC = 937.0 * Summer_Hill_TC\n",
    "Spring_Garden_BC = 1226.0 * Spring_Garden_TC\n",
    "Beltzhoover_BC = 1577.0 * Beltzhoover_TC\n",
    "print(SouthSide_Flats_BC, Lincoln_Place_BC, Lincoln_Lemington_Belmar_BC, Fineview_BC, Allegheny_West_BC, \n",
    "      New_Homestead_BC, Overbrook_BC, Summer_Hill_BC, Spring_Garden_BC, Beltzhoover_BC)"
   ]
  },
  {
   "cell_type": "markdown",
   "metadata": {},
   "source": [
    "## Drake's Top 10 conversion"
   ]
  },
  {
   "cell_type": "markdown",
   "metadata": {},
   "source": [
    "We need traffic and housing for my top 10 (there is only 8 bc leo already has some of the same neigborhoods) We need leo's traffic and Jerry's Housing inputs on these."
   ]
  },
  {
   "cell_type": "code",
   "execution_count": 25,
   "metadata": {},
   "outputs": [
    {
     "name": "stdout",
     "output_type": "stream",
     "text": [
      "298236.0\n"
     ]
    }
   ],
   "source": [
    "# Oliver Boro cannot be converted -leo-\n",
    "Chartiers_City_BC = 116 * Chartiers_City_T\n",
    "print(Chartiers_City_BC)\n",
    "# Oliver Neighborhood cannot be converted -leo-\n",
    "# Ridgemont can not be converted -leo-\n",
    "# Swisshelm Park cannot be converted -leo-\n",
    "# Mount Oliver cannot be converted -leo-\n",
    "# Arlington Heights cannot be converted  -leo-\n",
    "# East Carnegie cannot be converted -leo-\n"
   ]
  },
  {
   "cell_type": "markdown",
   "metadata": {},
   "source": [
    "## Jerry's Top 10 conversion"
   ]
  },
  {
   "cell_type": "markdown",
   "metadata": {},
   "source": [
    "This is the final dictionary showing the top rated neighborhoods in the black cats value. Leo we need the traffic values for these neighborhoods."
   ]
  },
  {
   "cell_type": "code",
   "execution_count": 26,
   "metadata": {},
   "outputs": [
    {
     "name": "stdout",
     "output_type": "stream",
     "text": [
      "603720794.0\n",
      "97871082.0\n",
      "58668747.0\n",
      "259237440.0\n",
      "51636200.0\n",
      "1069730.0\n",
      "603720794.0 97871082.0 58668747.0 259237440.0 51636200.0 1069730.0\n"
     ]
    }
   ],
   "source": [
    "Squirrel_Hill_BC = 1 * Squirrel_Hill_T * Squirrel_Hill_TC\n",
    "print(Squirrel_Hill_BC)\n",
    "# Aspinwall Cannot be converted\n",
    "Perry_County_BC = 1 * Perry_County_T * Perry_County_TC\n",
    "print(Perry_County_BC)\n",
    "Lawrenceville_BC = 1 * Lawrenceville_T * Lawrenceville_TC\n",
    "print(Lawrenceville_BC)\n",
    "# Shaler_Twp cannor be converted\n",
    "# Chateau cannot be converted\n",
    "Shadyside_BC = 1 * Shadyside_T * Shadyside_TC\n",
    "print(Shadyside_BC)\n",
    "# Sheridan cannot be converted \n",
    "Highland_Park_BC = 1 * Highland_Park_T * Highland_Park_TC\n",
    "print(Highland_Park_BC)\n",
    "SouthSide_Flats_BC = 1 * SouthSide_Flats_T * South_Side_TC\n",
    "print(SouthSide_Flats_BC)\n",
    "print(Squirrel_Hill_BC,Perry_County_BC,Lawrenceville_BC,Shadyside_BC,Highland_Park_BC,SouthSide_Flats_BC)"
   ]
  },
  {
   "cell_type": "markdown",
   "metadata": {},
   "source": [
    "# Final Dictionary of The top Black Cat Values"
   ]
  },
  {
   "cell_type": "markdown",
   "metadata": {},
   "source": [
    "# Top 25 Neighborhoods"
   ]
  },
  {
   "cell_type": "markdown",
   "metadata": {},
   "source": [
    "Values are skewed right now because not all of the data is in."
   ]
  },
  {
   "cell_type": "code",
   "execution_count": 27,
   "metadata": {},
   "outputs": [
    {
     "data": {
      "text/plain": [
       "Lincoln Place                   92232.0\n",
       "New Homstead                    98568.0\n",
       "Summer Hill                    216447.0\n",
       "Chartiers City                 298236.0\n",
       "Fineview                       310479.0\n",
       "Allegheny West                 317682.0\n",
       "Spring Garden                  495304.0\n",
       "Lincoln Lemington Belmar       611325.0\n",
       "Overbrook                      641802.0\n",
       "South Side Flats              1069730.0\n",
       "Beltzhoover                   1261600.0\n",
       "Highland_Park                51636200.0\n",
       "Lawrenceville                58668747.0\n",
       "Perry County                 97871082.0\n",
       "Shadyside                   259237440.0\n",
       "Squirrel_Hill               603720794.0\n",
       "dtype: float64"
      ]
     },
     "execution_count": 27,
     "metadata": {},
     "output_type": "execute_result"
    }
   ],
   "source": [
    "black_cats_dict = {\"South Side Flats\": SouthSide_Flats_BC,\n",
    "                   \"Lincoln Place\": Lincoln_Place_BC,\n",
    "                   \"Lincoln Lemington Belmar\": Lincoln_Lemington_Belmar_BC,\n",
    "                   \"Fineview\": Fineview_BC,\n",
    "                   \"Allegheny West\": Allegheny_West_BC,\n",
    "                   \"New Homstead\" : New_Homestead_BC,\n",
    "                   \"Overbrook\" : Overbrook_BC,\n",
    "                   \"Summer Hill\": Summer_Hill_BC,\n",
    "                   \"Spring Garden\" : Spring_Garden_BC,\n",
    "                   \"Beltzhoover\" : Beltzhoover_BC,\n",
    "                   \"Squirrel_Hill\" : Squirrel_Hill_BC,\n",
    "                   \"Perry County\" : Perry_County_BC,\n",
    "                   \"Lawrenceville\" : Lawrenceville_BC,\n",
    "                   \"Shadyside\" : Shadyside_BC,\n",
    "                   \"Highland_Park\" : Highland_Park_BC,\n",
    "                   \"Chartiers City\" : Chartiers_City_BC,\n",
    "                  }\n",
    "\n",
    "black_cats = pd.Series(black_cats_dict).sort_values(ascending=True)\n",
    "\n",
    "black_cats"
   ]
  },
  {
   "cell_type": "code",
   "execution_count": 62,
   "metadata": {},
   "outputs": [
    {
     "name": "stdout",
     "output_type": "stream",
     "text": [
      "Olver Boro              39.0\n",
      "Oliver Neighborhood    117.0\n",
      "Ridgemonet             170.0\n",
      "Swisshelm Park         186.0\n",
      "Mount Olver            191.0\n",
      "dtype: float64\n"
     ]
    },
    {
     "data": {
      "text/plain": [
       "<matplotlib.axes._subplots.AxesSubplot at 0x7f58d4883460>"
      ]
     },
     "execution_count": 62,
     "metadata": {},
     "output_type": "execute_result"
    },
    {
     "data": {
      "image/png": "[encoded data removed]",
      "text/plain": [
       "<Figure size 432x288 with 1 Axes>"
      ]
     },
     "metadata": {
      "needs_background": "light"
     },
     "output_type": "display_data"
    }
   ],
   "source": [
    "graph = pd.Series(black_cats)\n",
    "final = graph.head(5)\n",
    "print(final)\n",
    "final.plot(kind = \"bar\")"
   ]
  },
  {
   "cell_type": "markdown",
   "metadata": {},
   "source": [
    "# Final Conclusions"
   ]
  },
  {
   "cell_type": "markdown",
   "metadata": {},
   "source": [
    "Drake's Conclusion - We need to wait until all data it input to make a conclusion"
   ]
  },
  {
   "cell_type": "markdown",
   "metadata": {},
   "source": [
    "Leo's Conclusion - "
   ]
  },
  {
   "cell_type": "markdown",
   "metadata": {},
   "source": [
    "Jerry's Conclusion -"
   ]
  },
  {
   "cell_type": "code",
   "execution_count": null,
   "metadata": {},
   "outputs": [],
   "source": []
  },
  {
   "cell_type": "code",
   "execution_count": null,
   "metadata": {},
   "outputs": [],
   "source": []
  }
 ],
 "metadata": {
  "kernelspec": {
   "display_name": "Python 3",
   "language": "python",
   "name": "python3"
  },
  "language_info": {
   "codemirror_mode": {
    "name": "ipython",
    "version": 3
   },
   "file_extension": ".py",
   "mimetype": "text/x-python",
   "name": "python",
   "nbconvert_exporter": "python",
   "pygments_lexer": "ipython3",
   "version": "3.8.3"
  }
 },
 "nbformat": 4,
 "nbformat_minor": 4
}
